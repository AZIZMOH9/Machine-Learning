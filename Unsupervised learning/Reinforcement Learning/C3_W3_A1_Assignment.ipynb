{
 "cells": [
  {
   "cell_type": "markdown",
   "metadata": {},
   "source": [
    "# Deep Q-Learning - Lunar Lander\n",
    "\n",
    "In this assignment, you will train an agent to land a lunar lander safely on a landing pad on the surface of the moon.\n",
    "\n",
    "\n",
    "# Outline\n",
    "- [ 1 - Import Packages <img align=\"Right\" src=\"./images/lunar_lander.gif\" width = 60% >](#1)\n",
    "- [ 2 - Hyperparameters](#2)\n",
    "- [ 3 - The Lunar Lander Environment](#3)\n",
    "  - [ 3.1 Action Space](#3.1)\n",
    "  - [ 3.2 Observation Space](#3.2)\n",
    "  - [ 3.3 Rewards](#3.3)\n",
    "  - [ 3.4 Episode Termination](#3.4)\n",
    "- [ 4 - Load the Environment](#4)\n",
    "- [ 5 - Interacting with the Gym Environment](#5)\n",
    "    - [ 5.1 Exploring the Environment's Dynamics](#5.1)\n",
    "- [ 6 - Deep Q-Learning](#6)\n",
    "  - [ 6.1 Target Network](#6.1)\n",
    "    - [ Exercise 1](#ex01)\n",
    "  - [ 6.2 Experience Replay](#6.2)\n",
    "- [ 7 - Deep Q-Learning Algorithm with Experience Replay](#7)\n",
    "  - [ Exercise 2](#ex02)\n",
    "- [ 8 - Update the Network Weights](#8)\n",
    "- [ 9 - Train the Agent](#9)\n",
    "- [ 10 - See the Trained Agent In Action](#10)\n",
    "- [ 11 - Congratulations!](#11)\n",
    "- [ 12 - References](#12)\n"
   ]
  },
  {
   "cell_type": "markdown",
   "metadata": {},
   "source": [
    "<a name=\"1\"></a>\n",
    "## 1 - Import Packages\n",
    "\n",
    "We'll make use of the following packages:\n",
    "- `numpy` is a package for scientific computing in python.\n",
    "- `deque` will be our data structure for our memory buffer.\n",
    "- `namedtuple` will be used to store the experience tuples.\n",
    "- The `gym` toolkit is a collection of environments that can be used to test reinforcement learning algorithms. We should note that in this notebook we are using `gym` version `0.24.0`.\n",
    "- `PIL.Image` and `pyvirtualdisplay` are needed to render the Lunar Lander environment.\n",
    "- We will use several modules from the `tensorflow.keras` framework for building deep learning models.\n",
    "- `utils` is a module that contains helper functions for this assignment. You do not need to modify the code in this file.\n",
    "\n",
    "Run the cell below to import all the necessary packages."
   ]
  },
  {
   "cell_type": "code",
   "execution_count": 11,
   "metadata": {
    "id": "KYbOPKRtfQOr"
   },
   "outputs": [],
   "source": [
    "import time\n",
    "from collections import deque, namedtuple\n",
    "\n",
    "import gym\n",
    "import numpy as np\n",
    "import PIL.Image\n",
    "import tensorflow as tf\n",
    "import utils\n",
    "\n",
    "from pyvirtualdisplay import Display\n",
    "from tensorflow.keras import Sequential\n",
    "from tensorflow.keras.layers import Dense, Input\n",
    "from tensorflow.keras.losses import MSE\n",
    "from tensorflow.keras.optimizers import Adam"
   ]
  },
  {
   "cell_type": "code",
   "execution_count": 2,
   "metadata": {},
   "outputs": [],
   "source": [
    "# Set up a virtual display to render the Lunar Lander environment.\n",
    "Display(visible=0, size=(840, 480)).start();\n",
    "\n",
    "# Set the random seed for TensorFlow.\n",
    "tf.random.set_seed(utils.SEED)"
   ]
  },
  {
   "cell_type": "markdown",
   "metadata": {},
   "source": [
    "<a name=\"2\"></a>\n",
    "## 2 - Hyperparameters\n",
    "\n",
    "Run the cell below to set the hyperparameters."
   ]
  },
  {
   "cell_type": "code",
   "execution_count": 3,
   "metadata": {},
   "outputs": [],
   "source": [
    "MEMORY_SIZE = 100_000     # size of memory buffer.\n",
    "GAMMA = 0.995             # discount factor.\n",
    "ALPHA = 1e-3              # learning rate.\n",
    "NUM_STEPS_FOR_UPDATE = 4  # perform a learning update every C time steps."
   ]
  },
  {
   "cell_type": "markdown",
   "metadata": {},
   "source": [
    "<a name=\"3\"></a>\n",
    "## 3 - The Lunar Lander Environment\n",
    "\n",
    "In this notebook we will be using [OpenAI's Gym Library](https://www.gymlibrary.dev/). The Gym library provides a wide variety of environments for reinforcement learning. To put it simply, an environment represents a problem or task to be solved. In this notebook, we will try to solve the Lunar Lander environment using reinforcement learning.\n",
    "\n",
    "The goal of the Lunar Lander environment is to land the lunar lander safely on the landing pad on the surface of the moon. The landing pad is designated by two flag poles and it is always at coordinates `(0,0)` but the lander is also allowed to land outside of the landing pad. The lander starts at the top center of the environment with a random initial force applied to its center of mass and has infinite fuel. The environment is considered solved if you get `200` points. \n",
    "\n",
    "<br>\n",
    "<br>\n",
    "<figure>\n",
    "  <img src = \"images/lunar_lander.gif\" width = 40%>\n",
    "      <figcaption style = \"text-align: center; font-style: italic\">Fig 1. Lunar Lander Environment.</figcaption>\n",
    "</figure>\n",
    "\n",
    "\n",
    "\n",
    "<a name=\"3.1\"></a>\n",
    "### 3.1 Action Space\n",
    "\n",
    "The agent has four discrete actions available:\n",
    "\n",
    "* Do nothing.\n",
    "* Fire right engine.\n",
    "* Fire main engine.\n",
    "* Fire left engine.\n",
    "\n",
    "Each action has a corresponding numerical value:\n",
    "\n",
    "```python\n",
    "Do nothing = 0\n",
    "Fire right engine = 1\n",
    "Fire main engine = 2\n",
    "Fire left engine = 3\n",
    "```\n",
    "\n",
    "<a name=\"3.2\"></a>\n",
    "### 3.2 Observation Space\n",
    "\n",
    "The agent's observation space consists of a state vector with 8 variables:\n",
    "\n",
    "* Its $(x,y)$ coordinates. The landing pad is always at coordinates $(0,0)$.\n",
    "* Its linear velocities $(\\dot x,\\dot y)$.\n",
    "* Its angle $\\theta$.\n",
    "* Its angular velocity $\\dot \\theta$.\n",
    "* Two booleans, $l$ and $r$, that represent whether each leg is in contact with the ground or not.\n",
    "\n",
    "<a name=\"3.3\"></a>\n",
    "### 3.3 Rewards\n",
    "\n",
    "The Lunar Lander environment has the following reward system:\n",
    "\n",
    "* Landing on the landing pad and coming to rest is about 100-140 points.\n",
    "* If the lander moves away from the landing pad, it loses reward. \n",
    "* If the lander crashes, it receives -100 points.\n",
    "* If the lander comes to rest, it receives +100 points.\n",
    "* Each leg with ground contact is +10 points.\n",
    "* Firing the main engine is -0.3 points each frame.\n",
    "* Firing the side engine is -0.03 points each frame.\n",
    "\n",
    "<a name=\"3.4\"></a>\n",
    "### 3.4 Episode Termination\n",
    "\n",
    "An episode ends (i.e the environment enters a terminal state) if:\n",
    "\n",
    "* The lunar lander crashes (i.e if the body of the lunar lander comes in contact with the surface of the moon).\n",
    "\n",
    "* The absolute value of the lander's $x$-coordinate is greater than 1 (i.e. it goes beyond the left or right border)\n",
    "\n",
    "You can check out the [Open AI Gym documentation](https://www.gymlibrary.dev/environments/box2d/lunar_lander/) for a full description of the environment. "
   ]
  },
  {
   "cell_type": "markdown",
   "metadata": {},
   "source": [
    "<a name=\"4\"></a>\n",
    "## 4 - Load the Environment\n",
    "\n",
    "We start by loading the `LunarLander-v2` environment from the `gym` library by using the `.make()` method. `LunarLander-v2` is the latest version of the Lunar Lander environment and you can read about its version history in the [Open AI Gym documentation](https://www.gymlibrary.dev/environments/box2d/lunar_lander/#version-history)."
   ]
  },
  {
   "cell_type": "code",
   "execution_count": 4,
   "metadata": {
    "id": "ILVMYKewfR0n"
   },
   "outputs": [],
   "source": [
    "env = gym.make('LunarLander-v2')"
   ]
  },
  {
   "cell_type": "markdown",
   "metadata": {},
   "source": [
    "Once we load the environment we use the `.reset()` method to reset the environment to the initial state. The lander starts at the top center of the environment and we can render the first frame of the environment by using the `.render()` method."
   ]
  },
  {
   "cell_type": "code",
   "execution_count": 5,
   "metadata": {},
   "outputs": [
    {
     "data": {
      "image/png": "[encoded data removed]",
      "text/plain": [
       "<PIL.Image.Image image mode=RGB size=600x400 at 0x7FEC97768650>"
      ]
     },
     "execution_count": 5,
     "metadata": {},
     "output_type": "execute_result"
    }
   ],
   "source": [
    "env.reset()\n",
    "PIL.Image.fromarray(env.render(mode='rgb_array'))"
   ]
  },
  {
   "cell_type": "markdown",
   "metadata": {},
   "source": [
    "In order to build our neural network later on we need to know the size of the state vector and the number of valid actions. We can get this information from our environment by using the `.observation_space.shape` and `action_space.n` methods, respectively."
   ]
  },
  {
   "cell_type": "code",
   "execution_count": 6,
   "metadata": {
    "id": "x3fdqdG4CUu2"
   },
   "outputs": [
    {
     "name": "stdout",
     "output_type": "stream",
     "text": [
      "State Shape: (8,)\n",
      "Number of actions: 4\n"
     ]
    }
   ],
   "source": [
    "state_size = env.observation_space.shape\n",
    "num_actions = env.action_space.n\n",
    "\n",
    "print('State Shape:', state_size)\n",
    "print('Number of actions:', num_actions)"
   ]
  },
  {
   "cell_type": "markdown",
   "metadata": {},
   "source": [
    "<a name=\"5\"></a>\n",
    "## 5 - Interacting with the Gym Environment\n",
    "\n",
    "The Gym library implements the standard “agent-environment loop” formalism:\n",
    "\n",
    "<br>\n",
    "<center>\n",
    "<video src = \"./videos/rl_formalism.m4v\" width=\"840\" height=\"480\" controls autoplay loop poster=\"./images/rl_formalism.png\"> </video>\n",
    "<figcaption style = \"text-align:center; font-style:italic\">Fig 2. Agent-environment Loop Formalism.</figcaption>\n",
    "</center>\n",
    "<br>\n",
    "\n",
    "In the standard “agent-environment loop” formalism, an agent interacts with the environment in discrete time steps $t=0,1,2,...$. At each time step $t$, the agent uses a policy $\\pi$ to select an action $A_t$ based on its observation of the environment's state $S_t$. The agent receives a numerical reward $R_t$ and on the next time step, moves to a new state $S_{t+1}$.\n",
    "\n",
    "<a name=\"5.1\"></a>\n",
    "### 5.1 Exploring the Environment's Dynamics\n",
    "\n",
    "In Open AI's Gym environments, we use the `.step()` method to run a single time step of the environment's dynamics. In the version of `gym` that we are using the `.step()` method accepts an action and returns four values:\n",
    "\n",
    "* `observation` (**object**): an environment-specific object representing your observation of the environment. In the Lunar Lander environment this corresponds to a numpy array containing the positions and velocities of the lander as described in section [3.2 Observation Space](#3.2).\n",
    "\n",
    "\n",
    "* `reward` (**float**): amount of reward returned as a result of taking the given action. In the Lunar Lander environment this corresponds to a float of type `numpy.float64` as described in section [3.3 Rewards](#3.3).\n",
    "\n",
    "\n",
    "* `done` (**boolean**): When done is `True`, it indicates the episode has terminated and it’s time to reset the environment. \n",
    "\n",
    "\n",
    "* `info` (**dictionary**): diagnostic information useful for debugging. We won't be using this variable in this notebook but it is shown here for completeness.\n",
    "\n",
    "To begin an episode, we need to reset the environment to an initial state. We do this by using the `.reset()` method. "
   ]
  },
  {
   "cell_type": "code",
   "execution_count": 7,
   "metadata": {},
   "outputs": [],
   "source": [
    "# Reset the environment and get the initial state.\n",
    "initial_state = env.reset()"
   ]
  },
  {
   "cell_type": "markdown",
   "metadata": {},
   "source": [
    "Once the environment is reset, the agent can start taking actions in the environment by using the `.step()` method. Note that the agent can only take one action per time step. \n",
    "\n",
    "In the cell below you can select different actions and see how the returned values change depending on the action taken. Remember that in this environment the agent has four discrete actions available and we specify them in code by using their corresponding numerical value:\n",
    "\n",
    "```python\n",
    "Do nothing = 0\n",
    "Fire right engine = 1\n",
    "Fire main engine = 2\n",
    "Fire left engine = 3\n",
    "```"
   ]
  },
  {
   "cell_type": "code",
   "execution_count": 8,
   "metadata": {},
   "outputs": [
    {
     "data": {
      "text/html": [
       "<table class=\"simpletable\">\n",
       "<tr>\n",
       "  <th>Initial State:</th>      <td>[0.002 1.422 0.194 0.506 -0.002 -0.044 0.000 0.000]</td>\n",
       "</tr>\n",
       "<tr>\n",
       "  <th>Action:</th>                                 <td>Do nothing</td>                     \n",
       "</tr>\n",
       "<tr>\n",
       "  <th>Next State:</th>         <td>[0.004 1.433 0.194 0.480 -0.004 -0.044 0.000 0.000]</td>\n",
       "</tr>\n",
       "<tr>\n",
       "  <th>Reward Received:</th>                           <td>1.104</td>                       \n",
       "</tr>\n",
       "<tr>\n",
       "  <th>Episode Terminated:</th>                        <td>False</td>                       \n",
       "</tr>\n",
       "</table>"
      ],
      "text/plain": [
       "<class 'statsmodels.iolib.table.SimpleTable'>"
      ]
     },
     "execution_count": 8,
     "metadata": {},
     "output_type": "execute_result"
    }
   ],
   "source": [
    "# Select an action.\n",
    "action = 0\n",
    "\n",
    "# Run a single time step of the environment's dynamics with the given action.\n",
    "next_state, reward, done, _ = env.step(action)\n",
    "\n",
    "# Display table with values. All values are displayed to 3 decimal places.\n",
    "utils.display_table(initial_state, action, next_state, reward, done)"
   ]
  },
  {
   "cell_type": "markdown",
   "metadata": {},
   "source": [
    "In practice, when we train the agent we use a loop to allow the agent to take many consecutive actions during an episode."
   ]
  },
  {
   "cell_type": "markdown",
   "metadata": {},
   "source": [
    "<a name=\"6\"></a>\n",
    "## 6 - Deep Q-Learning\n",
    "\n",
    "In cases where both the state and action space are discrete we can estimate the action-value function iteratively by using the Bellman equation:\n",
    "\n",
    "$$\n",
    "Q_{i+1}(s,a) = R + \\gamma \\max_{a'}Q_i(s',a')\n",
    "$$\n",
    "\n",
    "This iterative method converges to the optimal action-value function $Q^*(s,a)$ as $i\\to\\infty$. This means that the agent just needs to gradually explore the state-action space and keep updating the estimate of $Q(s,a)$ until it converges to the optimal action-value function $Q^*(s,a)$. However, in cases where the state space is continuous it becomes practically impossible to explore the entire state-action space. Consequently, this also makes it practically impossible to gradually estimate $Q(s,a)$ until it converges to $Q^*(s,a)$.\n",
    "\n",
    "In the Deep $Q$-Learning, we solve this problem by using a neural network to estimate the action-value function $Q(s,a)\\approx Q^*(s,a)$. We call this neural network a $Q$-Network and it can be trained by adjusting its weights at each iteration to minimize the mean-squared error in the Bellman equation.\n",
    "\n",
    "Unfortunately, using neural networks in reinforcement learning to estimate action-value functions has proven to be highly unstable. Luckily, there's a couple of techniques that can be employed to avoid instabilities. These techniques consist of using a ***Target Network*** and ***Experience Replay***. We will explore these two techniques in the following sections."
   ]
  },
  {
   "cell_type": "markdown",
   "metadata": {},
   "source": [
    "<a name=\"6.1\"></a>\n",
    "### 6.1 Target Network\n",
    "\n",
    "We can train the $Q$-Network by adjusting it's weights at each iteration to minimize the mean-squared error in the Bellman equation, where the target values are given by:\n",
    "\n",
    "$$\n",
    "y = R + \\gamma \\max_{a'}Q(s',a';w)\n",
    "$$\n",
    "\n",
    "where $w$ are the weights of the $Q$-Network. This means that we are adjusting the weights $w$ at each iteration to minimize the following error:\n",
    "\n",
    "$$\n",
    "\\overbrace{\\underbrace{R + \\gamma \\max_{a'}Q(s',a'; w)}_{\\rm {y~target}} - Q(s,a;w)}^{\\rm {Error}}\n",
    "$$\n",
    "\n",
    "Notice that this forms a problem because the $y$ target is changing on every iteration. Having a constantly moving target can lead to oscillations and instabilities. To avoid this, we can create\n",
    "a separate neural network for generating the $y$ targets. We call this separate neural network the **target $\\hat Q$-Network** and it will have the same architecture as the original $Q$-Network. By using the target $\\hat Q$-Network, the above error becomes:\n",
    "\n",
    "$$\n",
    "\\overbrace{\\underbrace{R + \\gamma \\max_{a'}\\hat{Q}(s',a'; w^-)}_{\\rm {y~target}} - Q(s,a;w)}^{\\rm {Error}}\n",
    "$$\n",
    "\n",
    "where $w^-$ and $w$ are the weights the target $\\hat Q$-Network and $Q$-Network, respectively.\n",
    "\n",
    "In practice, we will use the following algorithm: every $C$ time steps we will use the $\\hat Q$-Network to generate the $y$ targets and update the weights of the target $\\hat Q$-Network using the weights of the $Q$-Network. We will update the weights $w^-$ of the the target $\\hat Q$-Network using a **soft update**. This means that we will update the weights $w^-$ using the following rule:\n",
    " \n",
    "$$\n",
    "w^-\\leftarrow \\tau w + (1 - \\tau) w^-\n",
    "$$\n",
    "\n",
    "where $\\tau\\ll 1$. By using the soft update, we are ensuring that the target values, $y$, change slowly, which greatly improves the stability of our learning algorithm."
   ]
  },
  {
   "cell_type": "markdown",
   "metadata": {},
   "source": [
    "<a name=\"ex01\"></a>\n",
    "### Exercise 1\n",
    "\n",
    "In this exercise you will create the $Q$ and target $\\hat Q$ networks and set the optimizer. Remember that the Deep $Q$-Network (DQN) is a neural network that approximates the action-value function $Q(s,a)\\approx Q^*(s,a)$. It does this by learning how to map states to $Q$ values.\n",
    "\n",
    "To solve the Lunar Lander environment, we are going to employ a DQN with the following architecture:\n",
    "\n",
    "* An `Input` layer that takes `state_size` as input.\n",
    "\n",
    "* A `Dense` layer with `64` units and a `relu` activation function.\n",
    "\n",
    "* A `Dense` layer with `64` units and a `relu` activation function.\n",
    "\n",
    "* A `Dense` layer with `num_actions` units and a `linear` activation function. This will be the output layer of our network.\n",
    "\n",
    "\n",
    "In the cell below you should create the $Q$-Network and the target $\\hat Q$-Network using the model architecture described above. Remember that both the $Q$-Network and the target $\\hat Q$-Network have the same architecture.\n",
    "\n",
    "Lastly, you should set `Adam` as the optimizer with a learning rate equal to `ALPHA`. Recall that `ALPHA` was defined in the [Hyperparameters](#2) section. We should note that for this exercise you should use the already imported packages:\n",
    "```python\n",
    "from tensorflow.keras.layers import Dense, Input\n",
    "from tensorflow.keras.optimizers import Adam\n",
    "```"
   ]
  },
  {
   "cell_type": "code",
   "execution_count": 17,
   "metadata": {},
   "outputs": [],
   "source": [
    "# UNQ_C1\n",
    "# GRADED CELL\n",
    "\n",
    "# Create the Q-Network.\n",
    "q_network = Sequential([\n",
    "    ### START CODE HERE ### \n",
    "    Input(shape=state_size), \n",
    "    tf.keras.layers.Dense(64,activation=\"relu\"),\n",
    "    tf.keras.layers.Dense(64,activation=\"relu\"),\n",
    "    tf.keras.layers.Dense(units=num_actions,activation=\"linear\")\n",
    "    ### END CODE HERE ### \n",
    "    ])\n",
    "\n",
    "# Create the target Q^-Network.\n",
    "target_q_network = Sequential([\n",
    "    ### START CODE HERE ### \n",
    "    Input(shape=state_size), \n",
    "    tf.keras.layers.Dense(64,activation=\"relu\"),\n",
    "    tf.keras.layers.Dense(64,activation=\"relu\"),\n",
    "    tf.keras.layers.Dense(units=num_actions,activation=\"linear\")\n",
    "    ### END CODE HERE ###\n",
    "    ])\n",
    "\n",
    "### START CODE HERE ### \n",
    "optimizer = Adam(learning_rate=ALPHA)\n",
    "### END CODE HERE ###"
   ]
  },
  {
   "cell_type": "code",
   "execution_count": 18,
   "metadata": {},
   "outputs": [
    {
     "name": "stdout",
     "output_type": "stream",
     "text": [
      "\u001b[92mAll tests passed!\n",
      "\u001b[92mAll tests passed!\n",
      "\u001b[92mAll tests passed!\n"
     ]
    }
   ],
   "source": [
    "# UNIT TEST\n",
    "from public_tests import *\n",
    "\n",
    "test_network(q_network)\n",
    "test_network(target_q_network)\n",
    "test_optimizer(optimizer, ALPHA) "
   ]
  },
  {
   "cell_type": "markdown",
   "metadata": {},
   "source": [
    "<details>\n",
    "  <summary><font size=\"3\" color=\"darkgreen\"><b>Click for hints</b></font></summary>\n",
    "    \n",
    "```python\n",
    "# Create the Q-Network.\n",
    "q_network = Sequential([\n",
    "    Input(shape=state_size),                      \n",
    "    Dense(units=64, activation='relu'),            \n",
    "    Dense(units=64, activation='relu'),            \n",
    "    Dense(units=num_actions, activation='linear'),\n",
    "    ])\n",
    "\n",
    "# Create the target Q^-Network.\n",
    "target_q_network = Sequential([\n",
    "    Input(shape=state_size),                       \n",
    "    Dense(units=64, activation='relu'),            \n",
    "    Dense(units=64, activation='relu'),            \n",
    "    Dense(units=num_actions, activation='linear'), \n",
    "    ])\n",
    "\n",
    "optimizer = Adam(learning_rate=ALPHA)                                  \n",
    "``` "
   ]
  },
  {
   "cell_type": "markdown",
   "metadata": {},
   "source": [
    "<a name=\"6.2\"></a>\n",
    "### 6.2 Experience Replay\n",
    "\n",
    "When an agent interacts with the environment, the states, actions, and rewards the agent experiences are sequential by nature. If the agent tries to learn from these consecutive experiences it can run into problems due to the strong correlations between them. To avoid this, we employ a technique known as **Experience Replay** to generate uncorrelated experiences for training our agent. Experience replay consists of storing the agent's experiences (i.e the states, actions, and rewards the agent receives) in a memory buffer and then sampling a random mini-batch of experiences from the buffer to do the learning. The experience tuples $(S_t, A_t, R_t, S_{t+1})$ will be added to the memory buffer at each time step as the agent interacts with the environment.\n",
    "\n",
    "For convenience, we will store the experiences as named tuples."
   ]
  },
  {
   "cell_type": "code",
   "execution_count": 19,
   "metadata": {},
   "outputs": [],
   "source": [
    "# Store experiences as named tuples.\n",
    "experience = namedtuple(\"Experience\", field_names=[\"state\", \"action\", \"reward\", \"next_state\", \"done\"])"
   ]
  },
  {
   "cell_type": "markdown",
   "metadata": {},
   "source": [
    "By using experience replay we avoid problematic correlations, oscillations and instabilities. In addition, experience replay also allows the agent to potentially use the same experience in multiple weight updates, which increases data efficiency."
   ]
  },
  {
   "cell_type": "markdown",
   "metadata": {},
   "source": [
    "<a name=\"7\"></a>\n",
    "## 7 - Deep Q-Learning Algorithm with Experience Replay\n",
    "\n",
    "Now that we know all the techniques that we are going to use, we can put them together to arrive at the Deep Q-Learning Algorithm With Experience Replay.\n",
    "<br>\n",
    "<br>\n",
    "<figure>\n",
    "  <img src = \"images/deep_q_algorithm.png\" width = 90% style = \"border: thin silver solid; padding: 0px\">\n",
    "      <figcaption style = \"text-align: center; font-style: italic\">Fig 3. Deep Q-Learning with Experience Replay.</figcaption>\n",
    "</figure>"
   ]
  },
  {
   "cell_type": "markdown",
   "metadata": {},
   "source": [
    "<a name=\"ex02\"></a>\n",
    "### Exercise 2\n",
    "\n",
    "In this exercise you will implement line ***12*** of the algorithm outlined in *Fig 3* above and you will also compute the loss between the $y$ targets and the $Q(s,a)$ values. In the cell below, complete the `compute_loss` function by setting the $y$ targets equal to:\n",
    "\n",
    "$$\n",
    "\\begin{equation}\n",
    "    y_j =\n",
    "    \\begin{cases}\n",
    "      R_j & \\text{if episode terminates at step  } j+1\\\\\n",
    "      R_j + \\gamma \\max_{a'}\\hat{Q}(s_{j+1},a') & \\text{otherwise}\\\\\n",
    "    \\end{cases}       \n",
    "\\end{equation}\n",
    "$$\n",
    "\n",
    "Here are a couple of things to note:\n",
    "\n",
    "* The `compute_loss` function takes in a mini-batch of experience tuples. This mini-batch of experience tuples is unpacked to extract the `states`, `actions`, `rewards`, `next_states`, and `done_vals`. You should keep in mind that these variables are *TensorFlow Tensors* whose size will depend on the mini-batch size. For example, if the mini-batch size is `64` then both `rewards` and `done_vals` will be TensorFlow Tensors with `64` elements.\n",
    "\n",
    "\n",
    "* Using `if/else` statements to set the $y$ targets will not work when the variables are tensors with many elements. However, notice that you can use the `done_vals` to implement the above in a single line of code. To do this, recall that the `done` variable is a Boolean variable that takes the value `True` when an episode terminates at step $j+1$ and it is `False` otherwise. Taking into account that a Boolean value of `True` has the numerical value of `1` and a Boolean value of `False` has the numerical value of `0`, you can use the factor `(1 - done_vals)` to implement the above in a single line of code. Here's a hint: notice that `(1 - done_vals)` has a value of `0` when `done_vals` is `True` and a value of `1` when `done_vals` is `False`. \n",
    "\n",
    "Lastly, compute the loss by calculating the Mean-Squared Error (`MSE`) between the `y_targets` and the `q_values`. To calculate the mean-squared error you should use the already imported package `MSE`:\n",
    "```python\n",
    "from tensorflow.keras.losses import MSE\n",
    "```"
   ]
  },
  {
   "cell_type": "code",
   "execution_count": 20,
   "metadata": {},
   "outputs": [],
   "source": [
    "# UNQ_C2\n",
    "# GRADED FUNCTION: calculate_loss\n",
    "\n",
    "def compute_loss(experiences, gamma, q_network, target_q_network):\n",
    "    \"\"\" \n",
    "    Calculates the loss.\n",
    "    \n",
    "    Args:\n",
    "      experiences: (tuple) tuple of [\"state\", \"action\", \"reward\", \"next_state\", \"done\"] namedtuples\n",
    "      gamma: (float) The discount factor.\n",
    "      q_network: (tf.keras.Sequential) Keras model for predicting the q_values\n",
    "      target_q_network: (tf.keras.Sequential) Keras model for predicting the targets\n",
    "          \n",
    "    Returns:\n",
    "      loss: (TensorFlow Tensor(shape=(0,), dtype=int32)) the Mean-Squared Error between\n",
    "            the y targets and the Q(s,a) values.\n",
    "    \"\"\"\n",
    "    \n",
    "    # Unpack the mini-batch of experience tuples.\n",
    "    states, actions, rewards, next_states, done_vals = experiences\n",
    "    \n",
    "    # Compute max Q^(s,a).\n",
    "    max_qsa = tf.reduce_max(target_q_network(next_states), axis=-1)\n",
    "    \n",
    "    # Set y = R if episode terminates, otherwise set y = R + γ max Q^(s,a).\n",
    "    ### START CODE HERE ### \n",
    "    y_targets = rewards + (gamma * max_qsa * (1 - done_vals))\n",
    "    ### END CODE HERE ###\n",
    "    \n",
    "    # Get the q_values.\n",
    "    q_values = q_network(states)\n",
    "    q_values = tf.gather_nd(q_values, tf.stack([tf.range(q_values.shape[0]),\n",
    "                                                tf.cast(actions, tf.int32)], axis=1))\n",
    "        \n",
    "    # Compute the loss.\n",
    "    ### START CODE HERE ### \n",
    "    loss = MSE(y_targets, q_values) \n",
    "    ### END CODE HERE ### \n",
    "    \n",
    "    return loss"
   ]
  },
  {
   "cell_type": "code",
   "execution_count": 21,
   "metadata": {},
   "outputs": [
    {
     "name": "stdout",
     "output_type": "stream",
     "text": [
      "\u001b[92mAll tests passed!\n"
     ]
    }
   ],
   "source": [
    "# UNIT TEST    \n",
    "test_compute_loss(compute_loss)"
   ]
  },
  {
   "cell_type": "markdown",
   "metadata": {},
   "source": [
    "<details>\n",
    "  <summary><font size=\"3\" color=\"darkgreen\"><b>Click for hints</b></font></summary>\n",
    "    \n",
    "```python\n",
    "def compute_loss(experiences, gamma, q_network, target_q_network):\n",
    "    \"\"\" \n",
    "    Calculates the loss.\n",
    "    \n",
    "    Args:\n",
    "      experiences: (tuple) tuple of [\"state\", \"action\", \"reward\", \"next_state\", \"done\"] namedtuples\n",
    "      gamma: (float) The discount factor.\n",
    "      q_network: (tf.keras.Sequential) Keras model for predicting the q_values\n",
    "      target_q_network: (tf.keras.Sequential) Keras model for predicting the targets\n",
    "          \n",
    "    Returns:\n",
    "      loss: (TensorFlow Tensor(shape=(0,), dtype=int32)) the Mean-Squared Error between\n",
    "            the y targets and the Q(s,a) values.\n",
    "    \"\"\"\n",
    "\n",
    "    \n",
    "    # Unpack the mini-batch of experience tuples.\n",
    "    states, actions, rewards, next_states, done_vals = experiences\n",
    "    \n",
    "    # Compute max Q^(s,a).\n",
    "    max_qsa = tf.reduce_max(target_q_network(next_states), axis=-1)\n",
    "    \n",
    "    # Set y = R if episode terminates, otherwise set y = R + γ max Q^(s,a).\n",
    "    y_targets = rewards + (gamma * max_qsa * (1 - done_vals))\n",
    "    \n",
    "    # Get the q_values.\n",
    "    q_values = q_network(states)\n",
    "    q_values = tf.gather_nd(q_values, tf.stack([tf.range(q_values.shape[0]),\n",
    "                                                tf.cast(actions, tf.int32)], axis=1))\n",
    "    \n",
    "    # Calculate the loss.\n",
    "    loss = MSE(y_targets, q_values)\n",
    "    \n",
    "    return loss\n",
    "\n",
    "``` \n",
    "    "
   ]
  },
  {
   "cell_type": "markdown",
   "metadata": {},
   "source": [
    "<a name=\"8\"></a>\n",
    "## 8 - Update the Network Weights\n",
    "\n",
    "We will use the `agent_learn` function below to implement lines ***12 -14*** of the algorithm outlined in [Fig 3](#7). The `agent_learn` function will update the weights of the $Q$ and target $\\hat Q$ networks using a custom training loop. Because we are using a custom training loop we need to retrieve the gradients via a `tf.GradientTape` instance, and then call `optimizer.apply_gradients()` to update the weights of our $Q$-Network. Note that we are also using the `@tf.function` decorator to increase performance. Without this decorator our training will take twice as long. If you would like to know more about how to increase performance with `@tf.function` take a look at the [TensorFlow documentation](https://www.tensorflow.org/guide/function).\n",
    "\n",
    "The last line of this function updates the weights of the target $\\hat Q$-Network using a [soft update](#6.1). If you want to know how this is implemented in code we encourage you to take a look at the `utils.update_target_network` function in the `utils` module."
   ]
  },
  {
   "cell_type": "code",
   "execution_count": 22,
   "metadata": {},
   "outputs": [],
   "source": [
    "@tf.function\n",
    "def agent_learn(experiences, gamma):\n",
    "    \"\"\"\n",
    "    Updates the weights of the Q networks.\n",
    "    \n",
    "    Args:\n",
    "      experiences: (tuple) tuple of [\"state\", \"action\", \"reward\", \"next_state\", \"done\"] namedtuples\n",
    "      gamma: (float) The discount factor.\n",
    "    \n",
    "    \"\"\"\n",
    "    \n",
    "    # Calculate the loss.\n",
    "    with tf.GradientTape() as tape:\n",
    "        loss = compute_loss(experiences, gamma, q_network, target_q_network)\n",
    "\n",
    "    # Get the gradients of the loss with respect to the weights.\n",
    "    gradients = tape.gradient(loss, q_network.trainable_variables)\n",
    "    \n",
    "    # Update the weights of the q_network.\n",
    "    optimizer.apply_gradients(zip(gradients, q_network.trainable_variables))\n",
    "\n",
    "    # update the weights of target q_network.\n",
    "    utils.update_target_network(q_network, target_q_network)"
   ]
  },
  {
   "cell_type": "markdown",
   "metadata": {},
   "source": [
    "<a name=\"9\"></a>\n",
    "## 9 - Train the Agent\n",
    "\n",
    "We are now ready to train our agent to solve the Lunar Lander environment. In the cell below we will implement the algorithm in [Fig 3](#7) line by line (please note that we have included the same algorithm below for easy reference. This will prevent you from scrolling up and down the notebook):\n",
    "\n",
    "* **Line 1**: We initialize the `memory_buffer` with a capacity of $N =$ `MEMORY_SIZE`. Notice that we are using a `deque` as the data structure for our `memory_buffer`.\n",
    "\n",
    "\n",
    "* **Line 2**: We skip this line since we already initialized the `q_network` in [Exercise 1](#ex01).\n",
    "\n",
    "\n",
    "* **Line 3**: We initialize the `target_q_network` by setting its weights to be equal to those of the `q_network`.\n",
    "\n",
    "\n",
    "* **Line 4**: We start the outer loop. Notice that we have set $M =$ `num_episodes = 2000`. This number is reasonable because the agent should be able to solve the Lunar Lander environment in less than `2000` episodes using this notebook's default parameters.\n",
    "\n",
    "\n",
    "* **Line 5**: We use the `.reset()` method to reset the environment to the initial state and get the initial state.\n",
    "\n",
    "\n",
    "* **Line 6**: We start the inner loop. Notice that we have set $T =$ `max_num_timesteps = 1000`. This means that the episode will automatically terminate if the episode hasn't terminated after `1000` time steps.\n",
    "\n",
    "\n",
    "* **Line 7**: The agent observes the current `state` and chooses an `action` using an $\\epsilon$-greedy policy. Our agent starts out using a value of $\\epsilon =$ `epsilon = 1` which yields an $\\epsilon$-greedy policy that is equivalent to the equiprobable random policy. This means that at the beginning of our training, the agent is just going to take random actions regardless of the observed `state`. As training progresses we will decrease the value of $\\epsilon$ slowly towards a minimum value using a given $\\epsilon$-decay rate. We want this minimum value to be close to zero because a value of $\\epsilon = 0$ will yield an $\\epsilon$-greedy policy that is equivalent to the greedy policy. This means that towards the end of training, the agent will lean towards selecting the `action` that it believes (based on its past experiences) will maximize $Q(s,a)$. We will set the minimum $\\epsilon$ value to be `0.01` and not exactly 0 because we always want to keep a little bit of exploration during training. If you want to know how this is implemented in code we encourage you to take a look at the `utils.get_action` function in the `utils` module.\n",
    "\n",
    "\n",
    "* **Line 8**: We use the `.step()` method to take the given `action` in the environment and get the `reward` and the `next_state`. \n",
    "\n",
    "\n",
    "* **Line 9**: We store the `experience(state, action, reward, next_state, done)` tuple in our `memory_buffer`. Notice that we also store the `done` variable so that we can keep track of when an episode terminates. This allowed us to set the $y$ targets in [Exercise 2](#ex02).\n",
    "\n",
    "\n",
    "* **Line 10**: We check if the conditions are met to perform a learning update. We do this by using our custom `utils.check_update_conditions` function. This function checks if $C =$ `NUM_STEPS_FOR_UPDATE = 4` time steps have occured and if our `memory_buffer` has enough experience tuples to fill a mini-batch. For example, if the mini-batch size is `64`, then our `memory_buffer` should have more than `64` experience tuples in order to pass the latter condition. If the conditions are met, then the `utils.check_update_conditions` function will return a value of `True`, otherwise it will return a value of `False`.\n",
    "\n",
    "\n",
    "* **Lines 11 - 14**: If the `update` variable is `True` then we perform a learning update. The learning update consists of sampling a random mini-batch of experience tuples from our `memory_buffer`, setting the $y$ targets, performing gradient descent, and updating the weights of the networks. We will use the `agent_learn` function we defined in [Section 8](#8) to perform the latter 3.\n",
    "\n",
    "\n",
    "* **Line 15**: At the end of each iteration of the inner loop we set `next_state` as our new `state` so that the loop can start again from this new state. In addition, we check if the episode has reached a terminal state (i.e we check if `done = True`). If a terminal state has been reached, then we break out of the inner loop.\n",
    "\n",
    "\n",
    "* **Line 16**: At the end of each iteration of the outer loop we update the value of $\\epsilon$, and check if the environment has been solved. We consider that the environment has been solved if the agent receives an average of `200` points in the last `100` episodes. If the environment has not been solved we continue the outer loop and start a new episode.\n",
    "\n",
    "Finally, we wanted to note that we have included some extra variables to keep track of the total number of points the agent received in each episode. This will help us determine if the agent has solved the environment and it will also allow us to see how our agent performed during training. We also use the `time` module to measure how long the training takes. \n",
    "\n",
    "<br>\n",
    "<br>\n",
    "<figure>\n",
    "  <img src = \"images/deep_q_algorithm.png\" width = 90% style = \"border: thin silver solid; padding: 0px\">\n",
    "      <figcaption style = \"text-align: center; font-style: italic\">Fig 4. Deep Q-Learning with Experience Replay.</figcaption>\n",
    "</figure>\n",
    "<br>\n",
    "\n",
    "**Note:** With this notebook's default parameters, the following cell takes between 10 to 15 minutes to run. "
   ]
  },
  {
   "cell_type": "code",
   "execution_count": 23,
   "metadata": {},
   "outputs": [
    {
     "name": "stdout",
     "output_type": "stream",
     "text": [
      "Episode 100 | Total point average of the last 100 episodes: -154.36\n",
      "Episode 200 | Total point average of the last 100 episodes: -142.74\n",
      "Episode 300 | Total point average of the last 100 episodes: -84.411\n",
      "Episode 400 | Total point average of the last 100 episodes: -50.23\n",
      "Episode 500 | Total point average of the last 100 episodes: -11.74\n",
      "Episode 600 | Total point average of the last 100 episodes: 121.79\n",
      "Episode 700 | Total point average of the last 100 episodes: 173.46\n",
      "Episode 736 | Total point average of the last 100 episodes: 200.77\n",
      "\n",
      "Environment solved in 736 episodes!\n",
      "\n",
      "Total Runtime: 964.06 s (16.07 min)\n"
     ]
    }
   ],
   "source": [
    "start = time.time()\n",
    "\n",
    "num_episodes = 2000\n",
    "max_num_timesteps = 1000\n",
    "\n",
    "total_point_history = []\n",
    "\n",
    "num_p_av = 100    # number of total points to use for averaging.\n",
    "epsilon = 1.0     # initial ε value for ε-greedy policy.\n",
    "\n",
    "# Create a memory buffer D with capacity N.\n",
    "memory_buffer = deque(maxlen=MEMORY_SIZE)\n",
    "\n",
    "# Set the target network weights equal to the Q-Network weights.\n",
    "target_q_network.set_weights(q_network.get_weights())\n",
    "\n",
    "for i in range(num_episodes):\n",
    "    \n",
    "    # Reset the environment to the initial state and get the initial state.\n",
    "    state = env.reset()\n",
    "    total_points = 0\n",
    "    \n",
    "    for t in range(max_num_timesteps):\n",
    "        \n",
    "        # From the current state S choose an action A using an ε-greedy policy.\n",
    "        state_qn = np.expand_dims(state, axis=0)  # state needs to be the right shape for the q_network.\n",
    "        q_values = q_network(state_qn)\n",
    "        action = utils.get_action(q_values, epsilon)\n",
    "        \n",
    "        # Take action A and receive reward R and the next state S'.\n",
    "        next_state, reward, done, _ = env.step(action)\n",
    "        \n",
    "        # Store experience tuple (S,A,R,S') in the memory buffer.\n",
    "        # We store the done variable as well for convenience.\n",
    "        memory_buffer.append(experience(state, action, reward, next_state, done))\n",
    "        \n",
    "        # Only update the network every NUM_STEPS_FOR_UPDATE time steps.\n",
    "        update = utils.check_update_conditions(t, NUM_STEPS_FOR_UPDATE, memory_buffer)\n",
    "        \n",
    "        if update:\n",
    "            # Sample random mini-batch of experience tuples (S,A,R,S') from D.\n",
    "            experiences = utils.get_experiences(memory_buffer)\n",
    "            \n",
    "            # Set the y targets, perform a gradient descent step,\n",
    "            # and update the network weights.\n",
    "            agent_learn(experiences, GAMMA)\n",
    "        \n",
    "        state = next_state.copy()\n",
    "        total_points += reward\n",
    "        \n",
    "        if done:\n",
    "            break\n",
    "            \n",
    "    total_point_history.append(total_points)\n",
    "    av_latest_points = np.mean(total_point_history[-num_p_av:])\n",
    "    \n",
    "    # Update the ε value.\n",
    "    epsilon = utils.get_new_eps(epsilon)\n",
    "\n",
    "    print(f\"\\rEpisode {i+1} | Total point average of the last {num_p_av} episodes: {av_latest_points:.2f}\", end=\"\")\n",
    "\n",
    "    if (i+1) % num_p_av == 0:\n",
    "        print(f\"\\rEpisode {i+1} | Total point average of the last {num_p_av} episodes: {av_latest_points:.2f}\")\n",
    "\n",
    "    # We will consider that the environment is solved if we get an\n",
    "    # average of 200 points in the last 100 episodes.\n",
    "    if av_latest_points >= 200.0:\n",
    "        print(f\"\\n\\nEnvironment solved in {i+1} episodes!\")\n",
    "        q_network.save('lunar_lander_model.h5')\n",
    "        break\n",
    "        \n",
    "tot_time = time.time() - start\n",
    "\n",
    "print(f\"\\nTotal Runtime: {tot_time:.2f} s ({(tot_time/60):.2f} min)\")"
   ]
  },
  {
   "cell_type": "markdown",
   "metadata": {},
   "source": [
    "We can plot the total point history along with the moving average to see how our agent improved during training. If you want to know about the different plotting options available in the `utils.plot_history` function we encourage you to take a look at the `utils` module."
   ]
  },
  {
   "cell_type": "code",
   "execution_count": 24,
   "metadata": {
    "id": "E_EUXxurfe8m",
    "scrolled": false
   },
   "outputs": [
    {
     "data": {
      "image/png": "[encoded data removed]",
      "text/plain": [
       "<Figure size 720x504 with 1 Axes>"
      ]
     },
     "metadata": {},
     "output_type": "display_data"
    }
   ],
   "source": [
    "# Plot the total point history along with the moving average.\n",
    "utils.plot_history(total_point_history)"
   ]
  },
  {
   "cell_type": "markdown",
   "metadata": {
    "id": "c_xwgaX5MnYt"
   },
   "source": [
    "<a name=\"10\"></a>\n",
    "## 10 - See the Trained Agent In Action\n",
    "\n",
    "Now that we have trained our agent, we can see it in action. We will use the `utils.create_video` function to create a video of our agent interacting with the environment using the trained $Q$-Network. The `utils.create_video` function uses the `imageio` library to create the video. This library produces some warnings that can be distracting, so, to suppress these warnings we run the code below."
   ]
  },
  {
   "cell_type": "code",
   "execution_count": 25,
   "metadata": {},
   "outputs": [],
   "source": [
    "# Suppress warnings from imageio.\n",
    "import logging\n",
    "logging.getLogger().setLevel(logging.ERROR)"
   ]
  },
  {
   "cell_type": "markdown",
   "metadata": {},
   "source": [
    "In the cell below we create a video of our agent interacting with the Lunar Lander environment using the trained `q_network`. The video is saved to the `videos` folder with the given `filename`. We use the `utils.embed_mp4` function to embed the video in the Jupyter Notebook so that we can see it here directly without having to download it.\n",
    "\n",
    "We should note that since the lunar lander starts with a random initial force applied to its center of mass, every time you run the cell below you will see a different video. If the agent was trained properly, it should be able to land the lunar lander in the landing pad every time, regardless of the initial force applied to its center of mass."
   ]
  },
  {
   "cell_type": "code",
   "execution_count": 26,
   "metadata": {
    "id": "3Ttb_zLeJKiG"
   },
   "outputs": [
    {
     "data": {
      "text/html": [
       "\n",
       "    <video width=\"840\" height=\"480\" controls>\n",
       "    <source src=\"data:video/mp4;base64,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\" type=\"video/mp4\">\n",
       "    Your browser does not support the video tag.\n",
       "    </video>"
      ],
      "text/plain": [
       "<IPython.core.display.HTML object>"
      ]
     },
     "execution_count": 26,
     "metadata": {},
     "output_type": "execute_result"
    }
   ],
   "source": [
    "filename = \"./videos/lunar_lander.mp4\"\n",
    "\n",
    "utils.create_video(filename, env, q_network)\n",
    "utils.embed_mp4(filename)"
   ]
  },
  {
   "cell_type": "markdown",
   "metadata": {},
   "source": [
    "<a name=\"11\"></a>\n",
    "## 11 - Congratulations!\n",
    "\n",
    "You have successfully used Deep Q-Learning with Experience Replay to train an agent to land a lunar lander safely on a landing pad on the surface of the moon. Congratulations!"
   ]
  },
  {
   "cell_type": "markdown",
   "metadata": {},
   "source": [
    "<a name=\"12\"></a>\n",
    "## 12 - References\n",
    "\n",
    "If you would like to learn more about Deep Q-Learning, we recommend you check out the following papers.\n",
    "\n",
    "\n",
    "* Mnih, V., Kavukcuoglu, K., Silver, D. et al. Human-level control through deep reinforcement learning. Nature 518, 529–533 (2015).\n",
    "\n",
    "\n",
    "* Lillicrap, T. P., Hunt, J. J., Pritzel, A., et al. Continuous Control with Deep Reinforcement Learning. ICLR (2016).\n",
    "\n",
    "\n",
    "* Mnih, V., Kavukcuoglu, K., Silver, D. et al. Playing Atari with Deep Reinforcement Learning. arXiv e-prints.  arXiv:1312.5602 (2013)."
   ]
  },
  {
   "cell_type": "code",
   "execution_count": null,
   "metadata": {},
   "outputs": [],
   "source": []
  }
 ],
 "metadata": {
  "accelerator": "GPU",
  "colab": {
   "collapsed_sections": [],
   "name": "TensorFlow - Lunar Lander.ipynb",
   "provenance": []
  },
  "kernelspec": {
   "display_name": "Python 3",
   "language": "python",
   "name": "python3"
  },
  "language_info": {
   "codemirror_mode": {
    "name": "ipython",
    "version": 3
   },
   "file_extension": ".py",
   "mimetype": "text/x-python",
   "name": "python",
   "nbconvert_exporter": "python",
   "pygments_lexer": "ipython3",
   "version": "3.7.6"
  }
 },
 "nbformat": 4,
 "nbformat_minor": 1
}
