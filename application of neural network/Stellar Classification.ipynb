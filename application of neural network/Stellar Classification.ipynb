{
 "cells": [
  {
   "cell_type": "markdown",
   "id": "220d9837",
   "metadata": {},
   "source": [
    "# Stellar Classification"
   ]
  },
  {
   "cell_type": "markdown",
   "id": "7b947670",
   "metadata": {},
   "source": [
    "In astronomy, stellar classification is the classification of stars based on their spectral characteristics. The classification scheme of galaxies, quasars, and stars is one of the most fundamental in astronomy. The early cataloguing of stars and their distribution in the sky has led to the understanding that they make up our own galaxy and, following the distinction that Andromeda was a separate galaxy to our own, numerous galaxies began to be surveyed as more powerful telescopes were built. This datasat aims to classificate stars, galaxies, and quasars based on their spectral characteristics."
   ]
  },
  {
   "cell_type": "markdown",
   "id": "5a451354",
   "metadata": {},
   "source": [
    "# Content\n",
    "The data consists of 100,000 observations of space taken by the SDSS (Sloan Digital Sky Survey). Every observation is described by 17 feature columns and 1 class column which identifies it to be either a star, galaxy or quasar.\n",
    "\n",
    "obj_ID = Object Identifier, the unique value that identifies the object in the image catalog used by the CAS\n",
    "alpha = Right Ascension angle (at J2000 epoch)\n",
    "delta = Declination angle (at J2000 epoch)\n",
    "u = Ultraviolet filter in the photometric system\n",
    "g = Green filter in the photometric system\n",
    "r = Red filter in the photometric system\n",
    "i = Near Infrared filter in the photometric system\n",
    "z = Infrared filter in the photometric system\n",
    "run_ID = Run Number used to identify the specific scan\n",
    "rereun_ID = Rerun Number to specify how the image was processed\n",
    "cam_col = Camera column to identify the scanline within the run\n",
    "field_ID = Field number to identify each field\n",
    "spec_obj_ID = Unique ID used for optical spectroscopic objects (this means that 2 different observations with the same spec_obj_ID must share the output class)\n",
    "class = object class (galaxy, star or quasar object)\n",
    "redshift = redshift value based on the increase in wavelength\n",
    "plate = plate ID, identifies each plate in SDSS\n",
    "MJD = Modified Julian Date, used to indicate when a given piece of SDSS data was taken\n",
    "fiber_ID = fiber ID that identifies the fiber that pointed the light at the focal plane in each observation"
   ]
  },
  {
   "cell_type": "code",
   "execution_count": 1,
   "id": "c45b6e20",
   "metadata": {},
   "outputs": [],
   "source": [
    "import pandas as pd\n",
    "import numpy as np \n",
    "import matplotlib.pyplot as plt\n",
    "import seaborn as sns\n",
    "%matplotlib inline"
   ]
  },
  {
   "cell_type": "code",
   "execution_count": 2,
   "id": "4acf3baa",
   "metadata": {},
   "outputs": [],
   "source": [
    "data=pd.read_csv('star_classification.csv')"
   ]
  },
  {
   "cell_type": "code",
   "execution_count": 3,
   "id": "8c277d54",
   "metadata": {},
   "outputs": [
    {
     "data": {
      "text/html": [
       "<div>\n",
       "<style scoped>\n",
       "    .dataframe tbody tr th:only-of-type {\n",
       "        vertical-align: middle;\n",
       "    }\n",
       "\n",
       "    .dataframe tbody tr th {\n",
       "        vertical-align: top;\n",
       "    }\n",
       "\n",
       "    .dataframe thead th {\n",
       "        text-align: right;\n",
       "    }\n",
       "</style>\n",
       "<table border=\"1\" class=\"dataframe\">\n",
       "  <thead>\n",
       "    <tr style=\"text-align: right;\">\n",
       "      <th></th>\n",
       "      <th>obj_ID</th>\n",
       "      <th>alpha</th>\n",
       "      <th>delta</th>\n",
       "      <th>u</th>\n",
       "      <th>g</th>\n",
       "      <th>r</th>\n",
       "      <th>i</th>\n",
       "      <th>z</th>\n",
       "      <th>run_ID</th>\n",
       "      <th>rerun_ID</th>\n",
       "      <th>cam_col</th>\n",
       "      <th>field_ID</th>\n",
       "      <th>spec_obj_ID</th>\n",
       "      <th>class</th>\n",
       "      <th>redshift</th>\n",
       "      <th>plate</th>\n",
       "      <th>MJD</th>\n",
       "      <th>fiber_ID</th>\n",
       "    </tr>\n",
       "  </thead>\n",
       "  <tbody>\n",
       "    <tr>\n",
       "      <th>0</th>\n",
       "      <td>1.237661e+18</td>\n",
       "      <td>135.689107</td>\n",
       "      <td>32.494632</td>\n",
       "      <td>23.87882</td>\n",
       "      <td>22.27530</td>\n",
       "      <td>20.39501</td>\n",
       "      <td>19.16573</td>\n",
       "      <td>18.79371</td>\n",
       "      <td>3606</td>\n",
       "      <td>301</td>\n",
       "      <td>2</td>\n",
       "      <td>79</td>\n",
       "      <td>6.543777e+18</td>\n",
       "      <td>GALAXY</td>\n",
       "      <td>0.634794</td>\n",
       "      <td>5812</td>\n",
       "      <td>56354</td>\n",
       "      <td>171</td>\n",
       "    </tr>\n",
       "    <tr>\n",
       "      <th>1</th>\n",
       "      <td>1.237665e+18</td>\n",
       "      <td>144.826101</td>\n",
       "      <td>31.274185</td>\n",
       "      <td>24.77759</td>\n",
       "      <td>22.83188</td>\n",
       "      <td>22.58444</td>\n",
       "      <td>21.16812</td>\n",
       "      <td>21.61427</td>\n",
       "      <td>4518</td>\n",
       "      <td>301</td>\n",
       "      <td>5</td>\n",
       "      <td>119</td>\n",
       "      <td>1.176014e+19</td>\n",
       "      <td>GALAXY</td>\n",
       "      <td>0.779136</td>\n",
       "      <td>10445</td>\n",
       "      <td>58158</td>\n",
       "      <td>427</td>\n",
       "    </tr>\n",
       "    <tr>\n",
       "      <th>2</th>\n",
       "      <td>1.237661e+18</td>\n",
       "      <td>142.188790</td>\n",
       "      <td>35.582444</td>\n",
       "      <td>25.26307</td>\n",
       "      <td>22.66389</td>\n",
       "      <td>20.60976</td>\n",
       "      <td>19.34857</td>\n",
       "      <td>18.94827</td>\n",
       "      <td>3606</td>\n",
       "      <td>301</td>\n",
       "      <td>2</td>\n",
       "      <td>120</td>\n",
       "      <td>5.152200e+18</td>\n",
       "      <td>GALAXY</td>\n",
       "      <td>0.644195</td>\n",
       "      <td>4576</td>\n",
       "      <td>55592</td>\n",
       "      <td>299</td>\n",
       "    </tr>\n",
       "    <tr>\n",
       "      <th>3</th>\n",
       "      <td>1.237663e+18</td>\n",
       "      <td>338.741038</td>\n",
       "      <td>-0.402828</td>\n",
       "      <td>22.13682</td>\n",
       "      <td>23.77656</td>\n",
       "      <td>21.61162</td>\n",
       "      <td>20.50454</td>\n",
       "      <td>19.25010</td>\n",
       "      <td>4192</td>\n",
       "      <td>301</td>\n",
       "      <td>3</td>\n",
       "      <td>214</td>\n",
       "      <td>1.030107e+19</td>\n",
       "      <td>GALAXY</td>\n",
       "      <td>0.932346</td>\n",
       "      <td>9149</td>\n",
       "      <td>58039</td>\n",
       "      <td>775</td>\n",
       "    </tr>\n",
       "    <tr>\n",
       "      <th>4</th>\n",
       "      <td>1.237680e+18</td>\n",
       "      <td>345.282593</td>\n",
       "      <td>21.183866</td>\n",
       "      <td>19.43718</td>\n",
       "      <td>17.58028</td>\n",
       "      <td>16.49747</td>\n",
       "      <td>15.97711</td>\n",
       "      <td>15.54461</td>\n",
       "      <td>8102</td>\n",
       "      <td>301</td>\n",
       "      <td>3</td>\n",
       "      <td>137</td>\n",
       "      <td>6.891865e+18</td>\n",
       "      <td>GALAXY</td>\n",
       "      <td>0.116123</td>\n",
       "      <td>6121</td>\n",
       "      <td>56187</td>\n",
       "      <td>842</td>\n",
       "    </tr>\n",
       "  </tbody>\n",
       "</table>\n",
       "</div>"
      ],
      "text/plain": [
       "         obj_ID       alpha      delta         u         g         r  \\\n",
       "0  1.237661e+18  135.689107  32.494632  23.87882  22.27530  20.39501   \n",
       "1  1.237665e+18  144.826101  31.274185  24.77759  22.83188  22.58444   \n",
       "2  1.237661e+18  142.188790  35.582444  25.26307  22.66389  20.60976   \n",
       "3  1.237663e+18  338.741038  -0.402828  22.13682  23.77656  21.61162   \n",
       "4  1.237680e+18  345.282593  21.183866  19.43718  17.58028  16.49747   \n",
       "\n",
       "          i         z  run_ID  rerun_ID  cam_col  field_ID   spec_obj_ID  \\\n",
       "0  19.16573  18.79371    3606       301        2        79  6.543777e+18   \n",
       "1  21.16812  21.61427    4518       301        5       119  1.176014e+19   \n",
       "2  19.34857  18.94827    3606       301        2       120  5.152200e+18   \n",
       "3  20.50454  19.25010    4192       301        3       214  1.030107e+19   \n",
       "4  15.97711  15.54461    8102       301        3       137  6.891865e+18   \n",
       "\n",
       "    class  redshift  plate    MJD  fiber_ID  \n",
       "0  GALAXY  0.634794   5812  56354       171  \n",
       "1  GALAXY  0.779136  10445  58158       427  \n",
       "2  GALAXY  0.644195   4576  55592       299  \n",
       "3  GALAXY  0.932346   9149  58039       775  \n",
       "4  GALAXY  0.116123   6121  56187       842  "
      ]
     },
     "execution_count": 3,
     "metadata": {},
     "output_type": "execute_result"
    }
   ],
   "source": [
    " data.head()"
   ]
  },
  {
   "cell_type": "code",
   "execution_count": 4,
   "id": "3e53e83b",
   "metadata": {},
   "outputs": [],
   "source": [
    "data['class']=data['class'].map({'GALAXY':0,'STAR':1,'QSO':2})"
   ]
  },
  {
   "cell_type": "code",
   "execution_count": 5,
   "id": "0e549bc3",
   "metadata": {},
   "outputs": [
    {
     "data": {
      "text/plain": [
       "430"
      ]
     },
     "execution_count": 5,
     "metadata": {},
     "output_type": "execute_result"
    }
   ],
   "source": [
    "data['run_ID'].nunique()"
   ]
  },
  {
   "cell_type": "code",
   "execution_count": 6,
   "id": "7a59c281",
   "metadata": {},
   "outputs": [
    {
     "data": {
      "text/plain": [
       "100000"
      ]
     },
     "execution_count": 6,
     "metadata": {},
     "output_type": "execute_result"
    }
   ],
   "source": [
    "len(data)"
   ]
  },
  {
   "cell_type": "code",
   "execution_count": 7,
   "id": "14f064e3",
   "metadata": {},
   "outputs": [
    {
     "name": "stdout",
     "output_type": "stream",
     "text": [
      "<class 'pandas.core.frame.DataFrame'>\n",
      "RangeIndex: 100000 entries, 0 to 99999\n",
      "Data columns (total 18 columns):\n",
      " #   Column       Non-Null Count   Dtype  \n",
      "---  ------       --------------   -----  \n",
      " 0   obj_ID       100000 non-null  float64\n",
      " 1   alpha        100000 non-null  float64\n",
      " 2   delta        100000 non-null  float64\n",
      " 3   u            100000 non-null  float64\n",
      " 4   g            100000 non-null  float64\n",
      " 5   r            100000 non-null  float64\n",
      " 6   i            100000 non-null  float64\n",
      " 7   z            100000 non-null  float64\n",
      " 8   run_ID       100000 non-null  int64  \n",
      " 9   rerun_ID     100000 non-null  int64  \n",
      " 10  cam_col      100000 non-null  int64  \n",
      " 11  field_ID     100000 non-null  int64  \n",
      " 12  spec_obj_ID  100000 non-null  float64\n",
      " 13  class        100000 non-null  int64  \n",
      " 14  redshift     100000 non-null  float64\n",
      " 15  plate        100000 non-null  int64  \n",
      " 16  MJD          100000 non-null  int64  \n",
      " 17  fiber_ID     100000 non-null  int64  \n",
      "dtypes: float64(10), int64(8)\n",
      "memory usage: 13.7 MB\n"
     ]
    }
   ],
   "source": [
    "data.info()"
   ]
  },
  {
   "cell_type": "code",
   "execution_count": 8,
   "id": "e136210d",
   "metadata": {},
   "outputs": [
    {
     "data": {
      "text/html": [
       "<div>\n",
       "<style scoped>\n",
       "    .dataframe tbody tr th:only-of-type {\n",
       "        vertical-align: middle;\n",
       "    }\n",
       "\n",
       "    .dataframe tbody tr th {\n",
       "        vertical-align: top;\n",
       "    }\n",
       "\n",
       "    .dataframe thead th {\n",
       "        text-align: right;\n",
       "    }\n",
       "</style>\n",
       "<table border=\"1\" class=\"dataframe\">\n",
       "  <thead>\n",
       "    <tr style=\"text-align: right;\">\n",
       "      <th></th>\n",
       "      <th>obj_ID</th>\n",
       "      <th>alpha</th>\n",
       "      <th>delta</th>\n",
       "      <th>u</th>\n",
       "      <th>g</th>\n",
       "      <th>r</th>\n",
       "      <th>i</th>\n",
       "      <th>z</th>\n",
       "      <th>run_ID</th>\n",
       "      <th>rerun_ID</th>\n",
       "      <th>cam_col</th>\n",
       "      <th>field_ID</th>\n",
       "      <th>spec_obj_ID</th>\n",
       "      <th>class</th>\n",
       "      <th>redshift</th>\n",
       "      <th>plate</th>\n",
       "      <th>MJD</th>\n",
       "      <th>fiber_ID</th>\n",
       "    </tr>\n",
       "  </thead>\n",
       "  <tbody>\n",
       "    <tr>\n",
       "      <th>count</th>\n",
       "      <td>1.000000e+05</td>\n",
       "      <td>100000.000000</td>\n",
       "      <td>100000.000000</td>\n",
       "      <td>100000.000000</td>\n",
       "      <td>100000.000000</td>\n",
       "      <td>100000.000000</td>\n",
       "      <td>100000.000000</td>\n",
       "      <td>100000.000000</td>\n",
       "      <td>100000.000000</td>\n",
       "      <td>100000.0</td>\n",
       "      <td>100000.000000</td>\n",
       "      <td>100000.000000</td>\n",
       "      <td>1.000000e+05</td>\n",
       "      <td>100000.000000</td>\n",
       "      <td>100000.000000</td>\n",
       "      <td>100000.000000</td>\n",
       "      <td>100000.000000</td>\n",
       "      <td>100000.000000</td>\n",
       "    </tr>\n",
       "    <tr>\n",
       "      <th>mean</th>\n",
       "      <td>1.237665e+18</td>\n",
       "      <td>177.629117</td>\n",
       "      <td>24.135305</td>\n",
       "      <td>21.980468</td>\n",
       "      <td>20.531387</td>\n",
       "      <td>19.645762</td>\n",
       "      <td>19.084854</td>\n",
       "      <td>18.668810</td>\n",
       "      <td>4481.366060</td>\n",
       "      <td>301.0</td>\n",
       "      <td>3.511610</td>\n",
       "      <td>186.130520</td>\n",
       "      <td>5.783882e+18</td>\n",
       "      <td>0.595160</td>\n",
       "      <td>0.576661</td>\n",
       "      <td>5137.009660</td>\n",
       "      <td>55588.647500</td>\n",
       "      <td>449.312740</td>\n",
       "    </tr>\n",
       "    <tr>\n",
       "      <th>std</th>\n",
       "      <td>8.438560e+12</td>\n",
       "      <td>96.502241</td>\n",
       "      <td>19.644665</td>\n",
       "      <td>31.769291</td>\n",
       "      <td>31.750292</td>\n",
       "      <td>1.854760</td>\n",
       "      <td>1.757895</td>\n",
       "      <td>31.728152</td>\n",
       "      <td>1964.764593</td>\n",
       "      <td>0.0</td>\n",
       "      <td>1.586912</td>\n",
       "      <td>149.011073</td>\n",
       "      <td>3.324016e+18</td>\n",
       "      <td>0.787509</td>\n",
       "      <td>0.730707</td>\n",
       "      <td>2952.303351</td>\n",
       "      <td>1808.484233</td>\n",
       "      <td>272.498404</td>\n",
       "    </tr>\n",
       "    <tr>\n",
       "      <th>min</th>\n",
       "      <td>1.237646e+18</td>\n",
       "      <td>0.005528</td>\n",
       "      <td>-18.785328</td>\n",
       "      <td>-9999.000000</td>\n",
       "      <td>-9999.000000</td>\n",
       "      <td>9.822070</td>\n",
       "      <td>9.469903</td>\n",
       "      <td>-9999.000000</td>\n",
       "      <td>109.000000</td>\n",
       "      <td>301.0</td>\n",
       "      <td>1.000000</td>\n",
       "      <td>11.000000</td>\n",
       "      <td>2.995191e+17</td>\n",
       "      <td>0.000000</td>\n",
       "      <td>-0.009971</td>\n",
       "      <td>266.000000</td>\n",
       "      <td>51608.000000</td>\n",
       "      <td>1.000000</td>\n",
       "    </tr>\n",
       "    <tr>\n",
       "      <th>25%</th>\n",
       "      <td>1.237659e+18</td>\n",
       "      <td>127.518222</td>\n",
       "      <td>5.146771</td>\n",
       "      <td>20.352353</td>\n",
       "      <td>18.965230</td>\n",
       "      <td>18.135828</td>\n",
       "      <td>17.732285</td>\n",
       "      <td>17.460677</td>\n",
       "      <td>3187.000000</td>\n",
       "      <td>301.0</td>\n",
       "      <td>2.000000</td>\n",
       "      <td>82.000000</td>\n",
       "      <td>2.844138e+18</td>\n",
       "      <td>0.000000</td>\n",
       "      <td>0.054517</td>\n",
       "      <td>2526.000000</td>\n",
       "      <td>54234.000000</td>\n",
       "      <td>221.000000</td>\n",
       "    </tr>\n",
       "    <tr>\n",
       "      <th>50%</th>\n",
       "      <td>1.237663e+18</td>\n",
       "      <td>180.900700</td>\n",
       "      <td>23.645922</td>\n",
       "      <td>22.179135</td>\n",
       "      <td>21.099835</td>\n",
       "      <td>20.125290</td>\n",
       "      <td>19.405145</td>\n",
       "      <td>19.004595</td>\n",
       "      <td>4188.000000</td>\n",
       "      <td>301.0</td>\n",
       "      <td>4.000000</td>\n",
       "      <td>146.000000</td>\n",
       "      <td>5.614883e+18</td>\n",
       "      <td>0.000000</td>\n",
       "      <td>0.424173</td>\n",
       "      <td>4987.000000</td>\n",
       "      <td>55868.500000</td>\n",
       "      <td>433.000000</td>\n",
       "    </tr>\n",
       "    <tr>\n",
       "      <th>75%</th>\n",
       "      <td>1.237668e+18</td>\n",
       "      <td>233.895005</td>\n",
       "      <td>39.901550</td>\n",
       "      <td>23.687440</td>\n",
       "      <td>22.123767</td>\n",
       "      <td>21.044785</td>\n",
       "      <td>20.396495</td>\n",
       "      <td>19.921120</td>\n",
       "      <td>5326.000000</td>\n",
       "      <td>301.0</td>\n",
       "      <td>5.000000</td>\n",
       "      <td>241.000000</td>\n",
       "      <td>8.332144e+18</td>\n",
       "      <td>1.000000</td>\n",
       "      <td>0.704154</td>\n",
       "      <td>7400.250000</td>\n",
       "      <td>56777.000000</td>\n",
       "      <td>645.000000</td>\n",
       "    </tr>\n",
       "    <tr>\n",
       "      <th>max</th>\n",
       "      <td>1.237681e+18</td>\n",
       "      <td>359.999810</td>\n",
       "      <td>83.000519</td>\n",
       "      <td>32.781390</td>\n",
       "      <td>31.602240</td>\n",
       "      <td>29.571860</td>\n",
       "      <td>32.141470</td>\n",
       "      <td>29.383740</td>\n",
       "      <td>8162.000000</td>\n",
       "      <td>301.0</td>\n",
       "      <td>6.000000</td>\n",
       "      <td>989.000000</td>\n",
       "      <td>1.412694e+19</td>\n",
       "      <td>2.000000</td>\n",
       "      <td>7.011245</td>\n",
       "      <td>12547.000000</td>\n",
       "      <td>58932.000000</td>\n",
       "      <td>1000.000000</td>\n",
       "    </tr>\n",
       "  </tbody>\n",
       "</table>\n",
       "</div>"
      ],
      "text/plain": [
       "             obj_ID          alpha          delta              u  \\\n",
       "count  1.000000e+05  100000.000000  100000.000000  100000.000000   \n",
       "mean   1.237665e+18     177.629117      24.135305      21.980468   \n",
       "std    8.438560e+12      96.502241      19.644665      31.769291   \n",
       "min    1.237646e+18       0.005528     -18.785328   -9999.000000   \n",
       "25%    1.237659e+18     127.518222       5.146771      20.352353   \n",
       "50%    1.237663e+18     180.900700      23.645922      22.179135   \n",
       "75%    1.237668e+18     233.895005      39.901550      23.687440   \n",
       "max    1.237681e+18     359.999810      83.000519      32.781390   \n",
       "\n",
       "                   g              r              i              z  \\\n",
       "count  100000.000000  100000.000000  100000.000000  100000.000000   \n",
       "mean       20.531387      19.645762      19.084854      18.668810   \n",
       "std        31.750292       1.854760       1.757895      31.728152   \n",
       "min     -9999.000000       9.822070       9.469903   -9999.000000   \n",
       "25%        18.965230      18.135828      17.732285      17.460677   \n",
       "50%        21.099835      20.125290      19.405145      19.004595   \n",
       "75%        22.123767      21.044785      20.396495      19.921120   \n",
       "max        31.602240      29.571860      32.141470      29.383740   \n",
       "\n",
       "              run_ID  rerun_ID        cam_col       field_ID   spec_obj_ID  \\\n",
       "count  100000.000000  100000.0  100000.000000  100000.000000  1.000000e+05   \n",
       "mean     4481.366060     301.0       3.511610     186.130520  5.783882e+18   \n",
       "std      1964.764593       0.0       1.586912     149.011073  3.324016e+18   \n",
       "min       109.000000     301.0       1.000000      11.000000  2.995191e+17   \n",
       "25%      3187.000000     301.0       2.000000      82.000000  2.844138e+18   \n",
       "50%      4188.000000     301.0       4.000000     146.000000  5.614883e+18   \n",
       "75%      5326.000000     301.0       5.000000     241.000000  8.332144e+18   \n",
       "max      8162.000000     301.0       6.000000     989.000000  1.412694e+19   \n",
       "\n",
       "               class       redshift          plate            MJD  \\\n",
       "count  100000.000000  100000.000000  100000.000000  100000.000000   \n",
       "mean        0.595160       0.576661    5137.009660   55588.647500   \n",
       "std         0.787509       0.730707    2952.303351    1808.484233   \n",
       "min         0.000000      -0.009971     266.000000   51608.000000   \n",
       "25%         0.000000       0.054517    2526.000000   54234.000000   \n",
       "50%         0.000000       0.424173    4987.000000   55868.500000   \n",
       "75%         1.000000       0.704154    7400.250000   56777.000000   \n",
       "max         2.000000       7.011245   12547.000000   58932.000000   \n",
       "\n",
       "            fiber_ID  \n",
       "count  100000.000000  \n",
       "mean      449.312740  \n",
       "std       272.498404  \n",
       "min         1.000000  \n",
       "25%       221.000000  \n",
       "50%       433.000000  \n",
       "75%       645.000000  \n",
       "max      1000.000000  "
      ]
     },
     "execution_count": 8,
     "metadata": {},
     "output_type": "execute_result"
    }
   ],
   "source": [
    "data.describe()"
   ]
  },
  {
   "cell_type": "code",
   "execution_count": 9,
   "id": "44454b7c",
   "metadata": {},
   "outputs": [
    {
     "data": {
      "text/plain": [
       "<AxesSubplot:>"
      ]
     },
     "execution_count": 9,
     "metadata": {},
     "output_type": "execute_result"
    },
    {
     "data": {
      "image/png": "[encoded data removed]",
      "text/plain": [
       "<Figure size 864x576 with 2 Axes>"
      ]
     },
     "metadata": {
      "needs_background": "light"
     },
     "output_type": "display_data"
    }
   ],
   "source": [
    "plt.figure(figsize=(12,8))\n",
    "sns.heatmap(data.corr(), cmap=\"PuBu\", annot=True, linewidths=0.5, fmt= '.2f')\n"
   ]
  },
  {
   "cell_type": "code",
   "execution_count": 10,
   "id": "2fd9cd85",
   "metadata": {},
   "outputs": [
    {
     "name": "stderr",
     "output_type": "stream",
     "text": [
      "C:\\Users\\HP\\anaconda3\\envs\\panda_ground\\lib\\site-packages\\seaborn\\_decorators.py:36: FutureWarning: Pass the following variable as a keyword arg: x. From version 0.12, the only valid positional argument will be `data`, and passing other arguments without an explicit keyword will result in an error or misinterpretation.\n",
      "  warnings.warn(\n"
     ]
    },
    {
     "data": {
      "text/plain": [
       "<AxesSubplot:xlabel='class', ylabel='count'>"
      ]
     },
     "execution_count": 10,
     "metadata": {},
     "output_type": "execute_result"
    },
    {
     "data": {
      "image/png": "[encoded data removed]",
      "text/plain": [
       "<Figure size 432x288 with 1 Axes>"
      ]
     },
     "metadata": {
      "needs_background": "light"
     },
     "output_type": "display_data"
    }
   ],
   "source": [
    "sns.countplot(data['class'])"
   ]
  },
  {
   "cell_type": "code",
   "execution_count": 11,
   "id": "ddad27da",
   "metadata": {},
   "outputs": [
    {
     "data": {
      "text/plain": [
       "<AxesSubplot:xlabel='class', ylabel='alpha'>"
      ]
     },
     "execution_count": 11,
     "metadata": {},
     "output_type": "execute_result"
    },
    {
     "data": {
      "image/png": "[encoded data removed]",
      "text/plain": [
       "<Figure size 432x288 with 1 Axes>"
      ]
     },
     "metadata": {
      "needs_background": "light"
     },
     "output_type": "display_data"
    }
   ],
   "source": [
    "sns.boxplot(data=data,x='class',y='alpha')"
   ]
  },
  {
   "cell_type": "code",
   "execution_count": 12,
   "id": "8f2b1672",
   "metadata": {},
   "outputs": [
    {
     "data": {
      "text/plain": [
       "<AxesSubplot:xlabel='class', ylabel='delta'>"
      ]
     },
     "execution_count": 12,
     "metadata": {},
     "output_type": "execute_result"
    },
    {
     "data": {
      "image/png": "[encoded data removed]",
      "text/plain": [
       "<Figure size 432x288 with 1 Axes>"
      ]
     },
     "metadata": {
      "needs_background": "light"
     },
     "output_type": "display_data"
    }
   ],
   "source": [
    "sns.boxplot(data=data,x='class',y='delta')"
   ]
  },
  {
   "cell_type": "code",
   "execution_count": 13,
   "id": "859d065a",
   "metadata": {},
   "outputs": [
    {
     "name": "stderr",
     "output_type": "stream",
     "text": [
      "C:\\Users\\HP\\anaconda3\\envs\\panda_ground\\lib\\site-packages\\seaborn\\distributions.py:2619: FutureWarning: `distplot` is a deprecated function and will be removed in a future version. Please adapt your code to use either `displot` (a figure-level function with similar flexibility) or `histplot` (an axes-level function for histograms).\n",
      "  warnings.warn(msg, FutureWarning)\n"
     ]
    },
    {
     "data": {
      "text/plain": [
       "<AxesSubplot:xlabel='redshift', ylabel='Density'>"
      ]
     },
     "execution_count": 13,
     "metadata": {},
     "output_type": "execute_result"
    },
    {
     "data": {
      "image/png": "[encoded data removed]",
      "text/plain": [
       "<Figure size 432x288 with 1 Axes>"
      ]
     },
     "metadata": {
      "needs_background": "light"
     },
     "output_type": "display_data"
    }
   ],
   "source": [
    "sns.distplot(data['redshift'])"
   ]
  },
  {
   "cell_type": "code",
   "execution_count": 14,
   "id": "4d018859",
   "metadata": {},
   "outputs": [
    {
     "data": {
      "text/html": [
       "<div>\n",
       "<style scoped>\n",
       "    .dataframe tbody tr th:only-of-type {\n",
       "        vertical-align: middle;\n",
       "    }\n",
       "\n",
       "    .dataframe tbody tr th {\n",
       "        vertical-align: top;\n",
       "    }\n",
       "\n",
       "    .dataframe thead th {\n",
       "        text-align: right;\n",
       "    }\n",
       "</style>\n",
       "<table border=\"1\" class=\"dataframe\">\n",
       "  <thead>\n",
       "    <tr style=\"text-align: right;\">\n",
       "      <th></th>\n",
       "      <th>obj_ID</th>\n",
       "      <th>alpha</th>\n",
       "      <th>delta</th>\n",
       "      <th>u</th>\n",
       "      <th>g</th>\n",
       "      <th>r</th>\n",
       "      <th>i</th>\n",
       "      <th>z</th>\n",
       "      <th>run_ID</th>\n",
       "      <th>rerun_ID</th>\n",
       "      <th>cam_col</th>\n",
       "      <th>field_ID</th>\n",
       "      <th>spec_obj_ID</th>\n",
       "      <th>class</th>\n",
       "      <th>redshift</th>\n",
       "      <th>plate</th>\n",
       "      <th>MJD</th>\n",
       "      <th>fiber_ID</th>\n",
       "    </tr>\n",
       "  </thead>\n",
       "  <tbody>\n",
       "    <tr>\n",
       "      <th>0</th>\n",
       "      <td>1.237661e+18</td>\n",
       "      <td>135.689107</td>\n",
       "      <td>32.494632</td>\n",
       "      <td>23.87882</td>\n",
       "      <td>22.27530</td>\n",
       "      <td>20.39501</td>\n",
       "      <td>19.16573</td>\n",
       "      <td>18.79371</td>\n",
       "      <td>3606</td>\n",
       "      <td>301</td>\n",
       "      <td>2</td>\n",
       "      <td>79</td>\n",
       "      <td>6.543777e+18</td>\n",
       "      <td>0</td>\n",
       "      <td>0.634794</td>\n",
       "      <td>5812</td>\n",
       "      <td>56354</td>\n",
       "      <td>171</td>\n",
       "    </tr>\n",
       "    <tr>\n",
       "      <th>1</th>\n",
       "      <td>1.237665e+18</td>\n",
       "      <td>144.826101</td>\n",
       "      <td>31.274185</td>\n",
       "      <td>24.77759</td>\n",
       "      <td>22.83188</td>\n",
       "      <td>22.58444</td>\n",
       "      <td>21.16812</td>\n",
       "      <td>21.61427</td>\n",
       "      <td>4518</td>\n",
       "      <td>301</td>\n",
       "      <td>5</td>\n",
       "      <td>119</td>\n",
       "      <td>1.176014e+19</td>\n",
       "      <td>0</td>\n",
       "      <td>0.779136</td>\n",
       "      <td>10445</td>\n",
       "      <td>58158</td>\n",
       "      <td>427</td>\n",
       "    </tr>\n",
       "    <tr>\n",
       "      <th>2</th>\n",
       "      <td>1.237661e+18</td>\n",
       "      <td>142.188790</td>\n",
       "      <td>35.582444</td>\n",
       "      <td>25.26307</td>\n",
       "      <td>22.66389</td>\n",
       "      <td>20.60976</td>\n",
       "      <td>19.34857</td>\n",
       "      <td>18.94827</td>\n",
       "      <td>3606</td>\n",
       "      <td>301</td>\n",
       "      <td>2</td>\n",
       "      <td>120</td>\n",
       "      <td>5.152200e+18</td>\n",
       "      <td>0</td>\n",
       "      <td>0.644195</td>\n",
       "      <td>4576</td>\n",
       "      <td>55592</td>\n",
       "      <td>299</td>\n",
       "    </tr>\n",
       "    <tr>\n",
       "      <th>3</th>\n",
       "      <td>1.237663e+18</td>\n",
       "      <td>338.741038</td>\n",
       "      <td>-0.402828</td>\n",
       "      <td>22.13682</td>\n",
       "      <td>23.77656</td>\n",
       "      <td>21.61162</td>\n",
       "      <td>20.50454</td>\n",
       "      <td>19.25010</td>\n",
       "      <td>4192</td>\n",
       "      <td>301</td>\n",
       "      <td>3</td>\n",
       "      <td>214</td>\n",
       "      <td>1.030107e+19</td>\n",
       "      <td>0</td>\n",
       "      <td>0.932346</td>\n",
       "      <td>9149</td>\n",
       "      <td>58039</td>\n",
       "      <td>775</td>\n",
       "    </tr>\n",
       "    <tr>\n",
       "      <th>4</th>\n",
       "      <td>1.237680e+18</td>\n",
       "      <td>345.282593</td>\n",
       "      <td>21.183866</td>\n",
       "      <td>19.43718</td>\n",
       "      <td>17.58028</td>\n",
       "      <td>16.49747</td>\n",
       "      <td>15.97711</td>\n",
       "      <td>15.54461</td>\n",
       "      <td>8102</td>\n",
       "      <td>301</td>\n",
       "      <td>3</td>\n",
       "      <td>137</td>\n",
       "      <td>6.891865e+18</td>\n",
       "      <td>0</td>\n",
       "      <td>0.116123</td>\n",
       "      <td>6121</td>\n",
       "      <td>56187</td>\n",
       "      <td>842</td>\n",
       "    </tr>\n",
       "  </tbody>\n",
       "</table>\n",
       "</div>"
      ],
      "text/plain": [
       "         obj_ID       alpha      delta         u         g         r  \\\n",
       "0  1.237661e+18  135.689107  32.494632  23.87882  22.27530  20.39501   \n",
       "1  1.237665e+18  144.826101  31.274185  24.77759  22.83188  22.58444   \n",
       "2  1.237661e+18  142.188790  35.582444  25.26307  22.66389  20.60976   \n",
       "3  1.237663e+18  338.741038  -0.402828  22.13682  23.77656  21.61162   \n",
       "4  1.237680e+18  345.282593  21.183866  19.43718  17.58028  16.49747   \n",
       "\n",
       "          i         z  run_ID  rerun_ID  cam_col  field_ID   spec_obj_ID  \\\n",
       "0  19.16573  18.79371    3606       301        2        79  6.543777e+18   \n",
       "1  21.16812  21.61427    4518       301        5       119  1.176014e+19   \n",
       "2  19.34857  18.94827    3606       301        2       120  5.152200e+18   \n",
       "3  20.50454  19.25010    4192       301        3       214  1.030107e+19   \n",
       "4  15.97711  15.54461    8102       301        3       137  6.891865e+18   \n",
       "\n",
       "   class  redshift  plate    MJD  fiber_ID  \n",
       "0      0  0.634794   5812  56354       171  \n",
       "1      0  0.779136  10445  58158       427  \n",
       "2      0  0.644195   4576  55592       299  \n",
       "3      0  0.932346   9149  58039       775  \n",
       "4      0  0.116123   6121  56187       842  "
      ]
     },
     "execution_count": 14,
     "metadata": {},
     "output_type": "execute_result"
    }
   ],
   "source": [
    "data.head()"
   ]
  },
  {
   "cell_type": "code",
   "execution_count": 15,
   "id": "144db793",
   "metadata": {},
   "outputs": [
    {
     "data": {
      "text/html": [
       "<div>\n",
       "<style scoped>\n",
       "    .dataframe tbody tr th:only-of-type {\n",
       "        vertical-align: middle;\n",
       "    }\n",
       "\n",
       "    .dataframe tbody tr th {\n",
       "        vertical-align: top;\n",
       "    }\n",
       "\n",
       "    .dataframe thead th {\n",
       "        text-align: right;\n",
       "    }\n",
       "</style>\n",
       "<table border=\"1\" class=\"dataframe\">\n",
       "  <thead>\n",
       "    <tr style=\"text-align: right;\">\n",
       "      <th></th>\n",
       "      <th>obj_ID</th>\n",
       "      <th>alpha</th>\n",
       "      <th>delta</th>\n",
       "      <th>u</th>\n",
       "      <th>g</th>\n",
       "      <th>r</th>\n",
       "      <th>i</th>\n",
       "      <th>z</th>\n",
       "      <th>run_ID</th>\n",
       "      <th>rerun_ID</th>\n",
       "      <th>cam_col</th>\n",
       "      <th>field_ID</th>\n",
       "      <th>spec_obj_ID</th>\n",
       "      <th>class</th>\n",
       "      <th>redshift</th>\n",
       "      <th>plate</th>\n",
       "      <th>MJD</th>\n",
       "      <th>fiber_ID</th>\n",
       "    </tr>\n",
       "  </thead>\n",
       "  <tbody>\n",
       "    <tr>\n",
       "      <th>0</th>\n",
       "      <td>1.237661e+18</td>\n",
       "      <td>135.689107</td>\n",
       "      <td>32.494632</td>\n",
       "      <td>23.87882</td>\n",
       "      <td>22.27530</td>\n",
       "      <td>20.39501</td>\n",
       "      <td>19.16573</td>\n",
       "      <td>18.79371</td>\n",
       "      <td>3606</td>\n",
       "      <td>301</td>\n",
       "      <td>2</td>\n",
       "      <td>79</td>\n",
       "      <td>6.543777e+18</td>\n",
       "      <td>0</td>\n",
       "      <td>0.634794</td>\n",
       "      <td>5812</td>\n",
       "      <td>56354</td>\n",
       "      <td>171</td>\n",
       "    </tr>\n",
       "    <tr>\n",
       "      <th>1</th>\n",
       "      <td>1.237665e+18</td>\n",
       "      <td>144.826101</td>\n",
       "      <td>31.274185</td>\n",
       "      <td>24.77759</td>\n",
       "      <td>22.83188</td>\n",
       "      <td>22.58444</td>\n",
       "      <td>21.16812</td>\n",
       "      <td>21.61427</td>\n",
       "      <td>4518</td>\n",
       "      <td>301</td>\n",
       "      <td>5</td>\n",
       "      <td>119</td>\n",
       "      <td>1.176014e+19</td>\n",
       "      <td>0</td>\n",
       "      <td>0.779136</td>\n",
       "      <td>10445</td>\n",
       "      <td>58158</td>\n",
       "      <td>427</td>\n",
       "    </tr>\n",
       "    <tr>\n",
       "      <th>2</th>\n",
       "      <td>1.237661e+18</td>\n",
       "      <td>142.188790</td>\n",
       "      <td>35.582444</td>\n",
       "      <td>25.26307</td>\n",
       "      <td>22.66389</td>\n",
       "      <td>20.60976</td>\n",
       "      <td>19.34857</td>\n",
       "      <td>18.94827</td>\n",
       "      <td>3606</td>\n",
       "      <td>301</td>\n",
       "      <td>2</td>\n",
       "      <td>120</td>\n",
       "      <td>5.152200e+18</td>\n",
       "      <td>0</td>\n",
       "      <td>0.644195</td>\n",
       "      <td>4576</td>\n",
       "      <td>55592</td>\n",
       "      <td>299</td>\n",
       "    </tr>\n",
       "    <tr>\n",
       "      <th>3</th>\n",
       "      <td>1.237663e+18</td>\n",
       "      <td>338.741038</td>\n",
       "      <td>-0.402828</td>\n",
       "      <td>22.13682</td>\n",
       "      <td>23.77656</td>\n",
       "      <td>21.61162</td>\n",
       "      <td>20.50454</td>\n",
       "      <td>19.25010</td>\n",
       "      <td>4192</td>\n",
       "      <td>301</td>\n",
       "      <td>3</td>\n",
       "      <td>214</td>\n",
       "      <td>1.030107e+19</td>\n",
       "      <td>0</td>\n",
       "      <td>0.932346</td>\n",
       "      <td>9149</td>\n",
       "      <td>58039</td>\n",
       "      <td>775</td>\n",
       "    </tr>\n",
       "    <tr>\n",
       "      <th>4</th>\n",
       "      <td>1.237680e+18</td>\n",
       "      <td>345.282593</td>\n",
       "      <td>21.183866</td>\n",
       "      <td>19.43718</td>\n",
       "      <td>17.58028</td>\n",
       "      <td>16.49747</td>\n",
       "      <td>15.97711</td>\n",
       "      <td>15.54461</td>\n",
       "      <td>8102</td>\n",
       "      <td>301</td>\n",
       "      <td>3</td>\n",
       "      <td>137</td>\n",
       "      <td>6.891865e+18</td>\n",
       "      <td>0</td>\n",
       "      <td>0.116123</td>\n",
       "      <td>6121</td>\n",
       "      <td>56187</td>\n",
       "      <td>842</td>\n",
       "    </tr>\n",
       "  </tbody>\n",
       "</table>\n",
       "</div>"
      ],
      "text/plain": [
       "         obj_ID       alpha      delta         u         g         r  \\\n",
       "0  1.237661e+18  135.689107  32.494632  23.87882  22.27530  20.39501   \n",
       "1  1.237665e+18  144.826101  31.274185  24.77759  22.83188  22.58444   \n",
       "2  1.237661e+18  142.188790  35.582444  25.26307  22.66389  20.60976   \n",
       "3  1.237663e+18  338.741038  -0.402828  22.13682  23.77656  21.61162   \n",
       "4  1.237680e+18  345.282593  21.183866  19.43718  17.58028  16.49747   \n",
       "\n",
       "          i         z  run_ID  rerun_ID  cam_col  field_ID   spec_obj_ID  \\\n",
       "0  19.16573  18.79371    3606       301        2        79  6.543777e+18   \n",
       "1  21.16812  21.61427    4518       301        5       119  1.176014e+19   \n",
       "2  19.34857  18.94827    3606       301        2       120  5.152200e+18   \n",
       "3  20.50454  19.25010    4192       301        3       214  1.030107e+19   \n",
       "4  15.97711  15.54461    8102       301        3       137  6.891865e+18   \n",
       "\n",
       "   class  redshift  plate    MJD  fiber_ID  \n",
       "0      0  0.634794   5812  56354       171  \n",
       "1      0  0.779136  10445  58158       427  \n",
       "2      0  0.644195   4576  55592       299  \n",
       "3      0  0.932346   9149  58039       775  \n",
       "4      0  0.116123   6121  56187       842  "
      ]
     },
     "execution_count": 15,
     "metadata": {},
     "output_type": "execute_result"
    }
   ],
   "source": [
    "data.head()"
   ]
  },
  {
   "cell_type": "code",
   "execution_count": 16,
   "id": "d37e4da8",
   "metadata": {},
   "outputs": [
    {
     "name": "stdout",
     "output_type": "stream",
     "text": [
      "<class 'pandas.core.frame.DataFrame'>\n",
      "RangeIndex: 100000 entries, 0 to 99999\n",
      "Data columns (total 18 columns):\n",
      " #   Column       Non-Null Count   Dtype  \n",
      "---  ------       --------------   -----  \n",
      " 0   obj_ID       100000 non-null  float64\n",
      " 1   alpha        100000 non-null  float64\n",
      " 2   delta        100000 non-null  float64\n",
      " 3   u            100000 non-null  float64\n",
      " 4   g            100000 non-null  float64\n",
      " 5   r            100000 non-null  float64\n",
      " 6   i            100000 non-null  float64\n",
      " 7   z            100000 non-null  float64\n",
      " 8   run_ID       100000 non-null  int64  \n",
      " 9   rerun_ID     100000 non-null  int64  \n",
      " 10  cam_col      100000 non-null  int64  \n",
      " 11  field_ID     100000 non-null  int64  \n",
      " 12  spec_obj_ID  100000 non-null  float64\n",
      " 13  class        100000 non-null  int64  \n",
      " 14  redshift     100000 non-null  float64\n",
      " 15  plate        100000 non-null  int64  \n",
      " 16  MJD          100000 non-null  int64  \n",
      " 17  fiber_ID     100000 non-null  int64  \n",
      "dtypes: float64(10), int64(8)\n",
      "memory usage: 13.7 MB\n"
     ]
    }
   ],
   "source": [
    "data.info()"
   ]
  },
  {
   "cell_type": "code",
   "execution_count": 17,
   "id": "80556475",
   "metadata": {},
   "outputs": [],
   "source": [
    "from sklearn.preprocessing import StandardScaler"
   ]
  },
  {
   "cell_type": "code",
   "execution_count": 18,
   "id": "3ebf9a03",
   "metadata": {},
   "outputs": [],
   "source": [
    "sc=StandardScaler()"
   ]
  },
  {
   "cell_type": "code",
   "execution_count": 19,
   "id": "09dc4d4a",
   "metadata": {},
   "outputs": [],
   "source": [
    "x=data.drop(['class'],axis=1)"
   ]
  },
  {
   "cell_type": "code",
   "execution_count": 20,
   "id": "6286397f",
   "metadata": {},
   "outputs": [],
   "source": [
    "y=data['class']"
   ]
  },
  {
   "cell_type": "code",
   "execution_count": 21,
   "id": "26d8bc06",
   "metadata": {},
   "outputs": [],
   "source": [
    "from sklearn.model_selection import train_test_split"
   ]
  },
  {
   "cell_type": "code",
   "execution_count": 22,
   "id": "2f82e682",
   "metadata": {},
   "outputs": [],
   "source": [
    "X_train, X_test, y_train, y_test = train_test_split(x, y, test_size=0.20, random_state=42)"
   ]
  },
  {
   "cell_type": "code",
   "execution_count": 23,
   "id": "5315f6f4",
   "metadata": {},
   "outputs": [],
   "source": [
    "X_train=sc.fit_transform(X_train)"
   ]
  },
  {
   "cell_type": "code",
   "execution_count": 24,
   "id": "653d4c59",
   "metadata": {},
   "outputs": [],
   "source": [
    "X_test=sc.transform(X_test)"
   ]
  },
  {
   "cell_type": "code",
   "execution_count": 25,
   "id": "1993e1c2",
   "metadata": {},
   "outputs": [
    {
     "data": {
      "text/plain": [
       "(80000, 17)"
      ]
     },
     "execution_count": 25,
     "metadata": {},
     "output_type": "execute_result"
    }
   ],
   "source": [
    "X_train.shape"
   ]
  },
  {
   "cell_type": "code",
   "execution_count": 26,
   "id": "05a32277",
   "metadata": {},
   "outputs": [],
   "source": [
    "import tensorflow as tf"
   ]
  },
  {
   "cell_type": "code",
   "execution_count": 27,
   "id": "a373c6c3",
   "metadata": {},
   "outputs": [],
   "source": [
    "from tensorflow.keras.models import Sequential\n",
    "from tensorflow.keras.layers import Dense\n",
    "from tensorflow.keras.activations import linear, relu, sigmoid"
   ]
  },
  {
   "cell_type": "code",
   "execution_count": 28,
   "id": "a89d275f",
   "metadata": {},
   "outputs": [],
   "source": [
    "model=Sequential(\n",
    "[\n",
    "    Dense(25,activation='relu'),\n",
    "    Dense(15,activation='relu'),\n",
    "    Dense(10,activation='relu'),\n",
    "    Dense(3,activation='linear')\n",
    "    \n",
    "])"
   ]
  },
  {
   "cell_type": "code",
   "execution_count": 29,
   "id": "60690340",
   "metadata": {},
   "outputs": [],
   "source": [
    "model.compile(loss=tf.keras.losses.SparseCategoricalCrossentropy(from_logits=True),\n",
    "    optimizer=tf.keras.optimizers.Adam(learning_rate=0.001))"
   ]
  },
  {
   "cell_type": "code",
   "execution_count": 30,
   "id": "c999d7e5",
   "metadata": {},
   "outputs": [
    {
     "name": "stdout",
     "output_type": "stream",
     "text": [
      "Epoch 1/250\n",
      "313/313 [==============================] - 3s 6ms/step - loss: 0.5684 - val_loss: 0.2718\n",
      "Epoch 2/250\n",
      "313/313 [==============================] - 1s 4ms/step - loss: 0.2296 - val_loss: 0.1997\n",
      "Epoch 3/250\n",
      "313/313 [==============================] - 1s 4ms/step - loss: 0.1832 - val_loss: 0.1743\n",
      "Epoch 4/250\n",
      "313/313 [==============================] - 1s 4ms/step - loss: 0.1652 - val_loss: 0.1624\n",
      "Epoch 5/250\n",
      "313/313 [==============================] - 1s 4ms/step - loss: 0.1540 - val_loss: 0.1536\n",
      "Epoch 6/250\n",
      "313/313 [==============================] - 1s 4ms/step - loss: 0.1473 - val_loss: 0.1471\n",
      "Epoch 7/250\n",
      "313/313 [==============================] - 1s 4ms/step - loss: 0.1410 - val_loss: 0.1422\n",
      "Epoch 8/250\n",
      "313/313 [==============================] - 1s 4ms/step - loss: 0.1368 - val_loss: 0.1373\n",
      "Epoch 9/250\n",
      "313/313 [==============================] - 1s 4ms/step - loss: 0.1331 - val_loss: 0.1349\n",
      "Epoch 10/250\n",
      "313/313 [==============================] - 1s 3ms/step - loss: 0.1290 - val_loss: 0.1352\n",
      "Epoch 11/250\n",
      "313/313 [==============================] - 1s 3ms/step - loss: 0.1273 - val_loss: 0.1303\n",
      "Epoch 12/250\n",
      "313/313 [==============================] - 1s 3ms/step - loss: 0.1242 - val_loss: 0.1280\n",
      "Epoch 13/250\n",
      "313/313 [==============================] - 1s 3ms/step - loss: 0.1220 - val_loss: 0.1254\n",
      "Epoch 14/250\n",
      "313/313 [==============================] - 1s 3ms/step - loss: 0.1208 - val_loss: 0.1228\n",
      "Epoch 15/250\n",
      "313/313 [==============================] - 1s 3ms/step - loss: 0.1184 - val_loss: 0.1235\n",
      "Epoch 16/250\n",
      "313/313 [==============================] - 1s 3ms/step - loss: 0.1168 - val_loss: 0.1202\n",
      "Epoch 17/250\n",
      "313/313 [==============================] - 1s 3ms/step - loss: 0.1157 - val_loss: 0.1241\n",
      "Epoch 18/250\n",
      "313/313 [==============================] - 1s 3ms/step - loss: 0.1151 - val_loss: 0.1215\n",
      "Epoch 19/250\n",
      "313/313 [==============================] - 1s 3ms/step - loss: 0.1137 - val_loss: 0.1199\n",
      "Epoch 20/250\n",
      "313/313 [==============================] - 1s 3ms/step - loss: 0.1122 - val_loss: 0.1179\n",
      "Epoch 21/250\n",
      "313/313 [==============================] - 1s 3ms/step - loss: 0.1115 - val_loss: 0.1133\n",
      "Epoch 22/250\n",
      "313/313 [==============================] - 1s 3ms/step - loss: 0.1103 - val_loss: 0.1132\n",
      "Epoch 23/250\n",
      "313/313 [==============================] - 1s 3ms/step - loss: 0.1104 - val_loss: 0.1160\n",
      "Epoch 24/250\n",
      "313/313 [==============================] - 1s 3ms/step - loss: 0.1092 - val_loss: 0.1138\n",
      "Epoch 25/250\n",
      "313/313 [==============================] - 1s 3ms/step - loss: 0.1083 - val_loss: 0.1112\n",
      "Epoch 26/250\n",
      "313/313 [==============================] - 1s 3ms/step - loss: 0.1080 - val_loss: 0.1134\n",
      "Epoch 27/250\n",
      "313/313 [==============================] - 1s 3ms/step - loss: 0.1070 - val_loss: 0.1160\n",
      "Epoch 28/250\n",
      "313/313 [==============================] - 1s 3ms/step - loss: 0.1060 - val_loss: 0.1106\n",
      "Epoch 29/250\n",
      "313/313 [==============================] - 1s 3ms/step - loss: 0.1073 - val_loss: 0.1163\n",
      "Epoch 30/250\n",
      "313/313 [==============================] - 1s 3ms/step - loss: 0.1053 - val_loss: 0.1088\n",
      "Epoch 31/250\n",
      "313/313 [==============================] - 1s 3ms/step - loss: 0.1052 - val_loss: 0.1080\n",
      "Epoch 32/250\n",
      "313/313 [==============================] - 1s 3ms/step - loss: 0.1063 - val_loss: 0.1081\n",
      "Epoch 33/250\n",
      "313/313 [==============================] - 1s 3ms/step - loss: 0.1038 - val_loss: 0.1096\n",
      "Epoch 34/250\n",
      "313/313 [==============================] - 1s 3ms/step - loss: 0.1048 - val_loss: 0.1098\n",
      "Epoch 35/250\n",
      "313/313 [==============================] - 1s 3ms/step - loss: 0.1041 - val_loss: 0.1121\n",
      "Epoch 36/250\n",
      "313/313 [==============================] - 1s 3ms/step - loss: 0.1033 - val_loss: 0.1088\n",
      "Epoch 37/250\n",
      "313/313 [==============================] - 1s 3ms/step - loss: 0.1033 - val_loss: 0.1165\n",
      "Epoch 38/250\n",
      "313/313 [==============================] - 1s 3ms/step - loss: 0.1030 - val_loss: 0.1094\n",
      "Epoch 39/250\n",
      "313/313 [==============================] - 1s 3ms/step - loss: 0.1018 - val_loss: 0.1072\n",
      "Epoch 40/250\n",
      "313/313 [==============================] - 1s 3ms/step - loss: 0.1019 - val_loss: 0.1059\n",
      "Epoch 41/250\n",
      "313/313 [==============================] - 1s 3ms/step - loss: 0.1012 - val_loss: 0.1048\n",
      "Epoch 42/250\n",
      "313/313 [==============================] - 1s 3ms/step - loss: 0.1015 - val_loss: 0.1034\n",
      "Epoch 43/250\n",
      "313/313 [==============================] - 1s 3ms/step - loss: 0.1011 - val_loss: 0.1043\n",
      "Epoch 44/250\n",
      "313/313 [==============================] - 1s 3ms/step - loss: 0.1001 - val_loss: 0.1059\n",
      "Epoch 45/250\n",
      "313/313 [==============================] - 1s 3ms/step - loss: 0.1003 - val_loss: 0.1045\n",
      "Epoch 46/250\n",
      "313/313 [==============================] - 1s 3ms/step - loss: 0.1006 - val_loss: 0.1069\n",
      "Epoch 47/250\n",
      "313/313 [==============================] - 1s 3ms/step - loss: 0.0996 - val_loss: 0.1060\n",
      "Epoch 48/250\n",
      "313/313 [==============================] - 1s 3ms/step - loss: 0.0993 - val_loss: 0.1037\n",
      "Epoch 49/250\n",
      "313/313 [==============================] - 1s 3ms/step - loss: 0.0985 - val_loss: 0.1033\n",
      "Epoch 50/250\n",
      "313/313 [==============================] - 1s 3ms/step - loss: 0.0993 - val_loss: 0.1111\n",
      "Epoch 51/250\n",
      "313/313 [==============================] - 1s 3ms/step - loss: 0.0989 - val_loss: 0.1055\n",
      "Epoch 52/250\n",
      "313/313 [==============================] - 1s 3ms/step - loss: 0.0991 - val_loss: 0.1041\n",
      "Epoch 53/250\n",
      "313/313 [==============================] - 1s 3ms/step - loss: 0.1001 - val_loss: 0.1038\n",
      "Epoch 54/250\n",
      "313/313 [==============================] - 1s 3ms/step - loss: 0.0991 - val_loss: 0.1048\n",
      "Epoch 55/250\n",
      "313/313 [==============================] - 1s 3ms/step - loss: 0.0987 - val_loss: 0.1057\n",
      "Epoch 56/250\n",
      "313/313 [==============================] - 1s 3ms/step - loss: 0.0984 - val_loss: 0.1033\n",
      "Epoch 57/250\n",
      "313/313 [==============================] - 1s 3ms/step - loss: 0.0977 - val_loss: 0.1017\n",
      "Epoch 58/250\n",
      "313/313 [==============================] - 1s 3ms/step - loss: 0.0978 - val_loss: 0.1050\n",
      "Epoch 59/250\n",
      "313/313 [==============================] - 1s 3ms/step - loss: 0.0981 - val_loss: 0.1034\n",
      "Epoch 60/250\n",
      "313/313 [==============================] - 1s 3ms/step - loss: 0.0977 - val_loss: 0.1035\n",
      "Epoch 61/250\n",
      "313/313 [==============================] - 1s 3ms/step - loss: 0.0968 - val_loss: 0.1034\n",
      "Epoch 62/250\n",
      "313/313 [==============================] - 1s 3ms/step - loss: 0.0969 - val_loss: 0.1039\n",
      "Epoch 63/250\n",
      "313/313 [==============================] - 1s 3ms/step - loss: 0.0971 - val_loss: 0.1052\n",
      "Epoch 64/250\n",
      "313/313 [==============================] - 1s 3ms/step - loss: 0.0970 - val_loss: 0.1023\n",
      "Epoch 65/250\n",
      "313/313 [==============================] - 1s 3ms/step - loss: 0.0964 - val_loss: 0.1031\n",
      "Epoch 66/250\n",
      "313/313 [==============================] - 1s 3ms/step - loss: 0.0973 - val_loss: 0.1011\n",
      "Epoch 67/250\n",
      "313/313 [==============================] - 1s 3ms/step - loss: 0.0968 - val_loss: 0.1046\n",
      "Epoch 68/250\n",
      "313/313 [==============================] - 1s 3ms/step - loss: 0.0974 - val_loss: 0.1023\n",
      "Epoch 69/250\n",
      "313/313 [==============================] - 1s 3ms/step - loss: 0.0961 - val_loss: 0.1156\n",
      "Epoch 70/250\n",
      "313/313 [==============================] - 1s 3ms/step - loss: 0.0960 - val_loss: 0.1012\n",
      "Epoch 71/250\n",
      "313/313 [==============================] - 1s 3ms/step - loss: 0.0961 - val_loss: 0.1021\n",
      "Epoch 72/250\n",
      "313/313 [==============================] - 1s 3ms/step - loss: 0.0959 - val_loss: 0.1025\n",
      "Epoch 73/250\n",
      "313/313 [==============================] - 1s 3ms/step - loss: 0.0971 - val_loss: 0.1025\n",
      "Epoch 74/250\n",
      "313/313 [==============================] - 1s 3ms/step - loss: 0.0958 - val_loss: 0.1067\n",
      "Epoch 75/250\n",
      "313/313 [==============================] - 1s 3ms/step - loss: 0.0959 - val_loss: 0.1133\n",
      "Epoch 76/250\n",
      "313/313 [==============================] - 1s 3ms/step - loss: 0.0945 - val_loss: 0.1056\n",
      "Epoch 77/250\n",
      "313/313 [==============================] - 1s 3ms/step - loss: 0.0951 - val_loss: 0.1090\n",
      "Epoch 78/250\n",
      "313/313 [==============================] - 1s 3ms/step - loss: 0.0960 - val_loss: 0.1038\n",
      "Epoch 79/250\n",
      "313/313 [==============================] - 1s 3ms/step - loss: 0.0956 - val_loss: 0.1024\n",
      "Epoch 80/250\n",
      "313/313 [==============================] - 1s 3ms/step - loss: 0.0946 - val_loss: 0.1036\n",
      "Epoch 81/250\n"
     ]
    },
    {
     "name": "stdout",
     "output_type": "stream",
     "text": [
      "313/313 [==============================] - 1s 3ms/step - loss: 0.0945 - val_loss: 0.0991\n",
      "Epoch 82/250\n",
      "313/313 [==============================] - 1s 3ms/step - loss: 0.0942 - val_loss: 0.1027\n",
      "Epoch 83/250\n",
      "313/313 [==============================] - 1s 3ms/step - loss: 0.0948 - val_loss: 0.1000\n",
      "Epoch 84/250\n",
      "313/313 [==============================] - 1s 3ms/step - loss: 0.0938 - val_loss: 0.0996\n",
      "Epoch 85/250\n",
      "313/313 [==============================] - 1s 3ms/step - loss: 0.0950 - val_loss: 0.1115\n",
      "Epoch 86/250\n",
      "313/313 [==============================] - 1s 3ms/step - loss: 0.0948 - val_loss: 0.1025\n",
      "Epoch 87/250\n",
      "313/313 [==============================] - 1s 3ms/step - loss: 0.0944 - val_loss: 0.1011\n",
      "Epoch 88/250\n",
      "313/313 [==============================] - 1s 3ms/step - loss: 0.0932 - val_loss: 0.1009\n",
      "Epoch 89/250\n",
      "313/313 [==============================] - 1s 3ms/step - loss: 0.0947 - val_loss: 0.1036\n",
      "Epoch 90/250\n",
      "313/313 [==============================] - 1s 3ms/step - loss: 0.0936 - val_loss: 0.1041\n",
      "Epoch 91/250\n",
      "313/313 [==============================] - 1s 3ms/step - loss: 0.0939 - val_loss: 0.1025\n",
      "Epoch 92/250\n",
      "313/313 [==============================] - 1s 3ms/step - loss: 0.0935 - val_loss: 0.1015\n",
      "Epoch 93/250\n",
      "313/313 [==============================] - 1s 3ms/step - loss: 0.0946 - val_loss: 0.1027\n",
      "Epoch 94/250\n",
      "313/313 [==============================] - 1s 3ms/step - loss: 0.0941 - val_loss: 0.1021\n",
      "Epoch 95/250\n",
      "313/313 [==============================] - 1s 3ms/step - loss: 0.0931 - val_loss: 0.1000\n",
      "Epoch 96/250\n",
      "313/313 [==============================] - 1s 3ms/step - loss: 0.0931 - val_loss: 0.1027\n",
      "Epoch 97/250\n",
      "313/313 [==============================] - 1s 3ms/step - loss: 0.0929 - val_loss: 0.1016\n",
      "Epoch 98/250\n",
      "313/313 [==============================] - 1s 3ms/step - loss: 0.0935 - val_loss: 0.1003\n",
      "Epoch 99/250\n",
      "313/313 [==============================] - 1s 3ms/step - loss: 0.0934 - val_loss: 0.1001\n",
      "Epoch 100/250\n",
      "313/313 [==============================] - 1s 3ms/step - loss: 0.0931 - val_loss: 0.1011\n",
      "Epoch 101/250\n",
      "313/313 [==============================] - 1s 3ms/step - loss: 0.0927 - val_loss: 0.1057\n",
      "Epoch 102/250\n",
      "313/313 [==============================] - 1s 3ms/step - loss: 0.0931 - val_loss: 0.1032\n",
      "Epoch 103/250\n",
      "313/313 [==============================] - 1s 3ms/step - loss: 0.0932 - val_loss: 0.1000\n",
      "Epoch 104/250\n",
      "313/313 [==============================] - 1s 3ms/step - loss: 0.0933 - val_loss: 0.1010\n",
      "Epoch 105/250\n",
      "313/313 [==============================] - 1s 3ms/step - loss: 0.0927 - val_loss: 0.1048\n",
      "Epoch 106/250\n",
      "313/313 [==============================] - 1s 3ms/step - loss: 0.0921 - val_loss: 0.1009\n",
      "Epoch 107/250\n",
      "313/313 [==============================] - 1s 3ms/step - loss: 0.0919 - val_loss: 0.1117\n",
      "Epoch 108/250\n",
      "313/313 [==============================] - 1s 3ms/step - loss: 0.0942 - val_loss: 0.1008\n",
      "Epoch 109/250\n",
      "313/313 [==============================] - 1s 3ms/step - loss: 0.0922 - val_loss: 0.1042\n",
      "Epoch 110/250\n",
      "313/313 [==============================] - 1s 3ms/step - loss: 0.0920 - val_loss: 0.1022\n",
      "Epoch 111/250\n",
      "313/313 [==============================] - 1s 3ms/step - loss: 0.0932 - val_loss: 0.1024\n",
      "Epoch 112/250\n",
      "313/313 [==============================] - 1s 3ms/step - loss: 0.0929 - val_loss: 0.1008\n",
      "Epoch 113/250\n",
      "313/313 [==============================] - 1s 3ms/step - loss: 0.0922 - val_loss: 0.0997\n",
      "Epoch 114/250\n",
      "313/313 [==============================] - 1s 3ms/step - loss: 0.0922 - val_loss: 0.0991\n",
      "Epoch 115/250\n",
      "313/313 [==============================] - 1s 3ms/step - loss: 0.0927 - val_loss: 0.0980\n",
      "Epoch 116/250\n",
      "313/313 [==============================] - 1s 3ms/step - loss: 0.0928 - val_loss: 0.0985\n",
      "Epoch 117/250\n",
      "313/313 [==============================] - 1s 3ms/step - loss: 0.0919 - val_loss: 0.1022\n",
      "Epoch 118/250\n",
      "313/313 [==============================] - 1s 3ms/step - loss: 0.0917 - val_loss: 0.1004\n",
      "Epoch 119/250\n",
      "313/313 [==============================] - 1s 3ms/step - loss: 0.0921 - val_loss: 0.1023\n",
      "Epoch 120/250\n",
      "313/313 [==============================] - 1s 3ms/step - loss: 0.0910 - val_loss: 0.0993\n",
      "Epoch 121/250\n",
      "313/313 [==============================] - 1s 3ms/step - loss: 0.0928 - val_loss: 0.1020\n",
      "Epoch 122/250\n",
      "313/313 [==============================] - 1s 3ms/step - loss: 0.0910 - val_loss: 0.0981\n",
      "Epoch 123/250\n",
      "313/313 [==============================] - 1s 3ms/step - loss: 0.0916 - val_loss: 0.1015\n",
      "Epoch 124/250\n",
      "313/313 [==============================] - 1s 4ms/step - loss: 0.0923 - val_loss: 0.1003\n",
      "Epoch 125/250\n",
      "313/313 [==============================] - 1s 4ms/step - loss: 0.0924 - val_loss: 0.1012\n",
      "Epoch 126/250\n",
      "313/313 [==============================] - 1s 3ms/step - loss: 0.0915 - val_loss: 0.0991\n",
      "Epoch 127/250\n",
      "313/313 [==============================] - 1s 3ms/step - loss: 0.0901 - val_loss: 0.1014\n",
      "Epoch 128/250\n",
      "313/313 [==============================] - 1s 3ms/step - loss: 0.0917 - val_loss: 0.1025\n",
      "Epoch 129/250\n",
      "313/313 [==============================] - 1s 4ms/step - loss: 0.0921 - val_loss: 0.1001\n",
      "Epoch 130/250\n",
      "313/313 [==============================] - 1s 3ms/step - loss: 0.0913 - val_loss: 0.0994\n",
      "Epoch 131/250\n",
      "313/313 [==============================] - 1s 4ms/step - loss: 0.0925 - val_loss: 0.0996\n",
      "Epoch 132/250\n",
      "313/313 [==============================] - 1s 4ms/step - loss: 0.0905 - val_loss: 0.0990\n",
      "Epoch 133/250\n",
      "313/313 [==============================] - 1s 4ms/step - loss: 0.0921 - val_loss: 0.0977\n",
      "Epoch 134/250\n",
      "313/313 [==============================] - 1s 3ms/step - loss: 0.0910 - val_loss: 0.0979\n",
      "Epoch 135/250\n",
      "313/313 [==============================] - 1s 3ms/step - loss: 0.0906 - val_loss: 0.1022\n",
      "Epoch 136/250\n",
      "313/313 [==============================] - 1s 3ms/step - loss: 0.0925 - val_loss: 0.0991\n",
      "Epoch 137/250\n",
      "313/313 [==============================] - 1s 3ms/step - loss: 0.0916 - val_loss: 0.0985\n",
      "Epoch 138/250\n",
      "313/313 [==============================] - 1s 3ms/step - loss: 0.0911 - val_loss: 0.1002\n",
      "Epoch 139/250\n",
      "313/313 [==============================] - 1s 3ms/step - loss: 0.0913 - val_loss: 0.0987\n",
      "Epoch 140/250\n",
      "313/313 [==============================] - 1s 3ms/step - loss: 0.0906 - val_loss: 0.0981\n",
      "Epoch 141/250\n",
      "313/313 [==============================] - 1s 3ms/step - loss: 0.0917 - val_loss: 0.1003\n",
      "Epoch 142/250\n",
      "313/313 [==============================] - 1s 3ms/step - loss: 0.0897 - val_loss: 0.1010\n",
      "Epoch 143/250\n",
      "313/313 [==============================] - 1s 3ms/step - loss: 0.0912 - val_loss: 0.1009\n",
      "Epoch 144/250\n",
      "313/313 [==============================] - 1s 3ms/step - loss: 0.0914 - val_loss: 0.0993\n",
      "Epoch 145/250\n",
      "313/313 [==============================] - 1s 3ms/step - loss: 0.0905 - val_loss: 0.1079\n",
      "Epoch 146/250\n",
      "313/313 [==============================] - 1s 3ms/step - loss: 0.0914 - val_loss: 0.1003\n",
      "Epoch 147/250\n",
      "313/313 [==============================] - 1s 3ms/step - loss: 0.0906 - val_loss: 0.0990\n",
      "Epoch 148/250\n",
      "313/313 [==============================] - 1s 3ms/step - loss: 0.0906 - val_loss: 0.0978\n",
      "Epoch 149/250\n",
      "313/313 [==============================] - 1s 3ms/step - loss: 0.0905 - val_loss: 0.1052\n",
      "Epoch 150/250\n",
      "313/313 [==============================] - 1s 3ms/step - loss: 0.0898 - val_loss: 0.1002\n",
      "Epoch 151/250\n",
      "313/313 [==============================] - 1s 3ms/step - loss: 0.0904 - val_loss: 0.1038\n",
      "Epoch 152/250\n",
      "313/313 [==============================] - 1s 3ms/step - loss: 0.0905 - val_loss: 0.0981\n",
      "Epoch 153/250\n",
      "313/313 [==============================] - 1s 3ms/step - loss: 0.0906 - val_loss: 0.1021\n",
      "Epoch 154/250\n",
      "313/313 [==============================] - 1s 3ms/step - loss: 0.0903 - val_loss: 0.0997\n",
      "Epoch 155/250\n",
      "313/313 [==============================] - 1s 3ms/step - loss: 0.0907 - val_loss: 0.1016\n",
      "Epoch 156/250\n",
      "313/313 [==============================] - 1s 3ms/step - loss: 0.0898 - val_loss: 0.0999\n",
      "Epoch 157/250\n",
      "313/313 [==============================] - 1s 3ms/step - loss: 0.0906 - val_loss: 0.1010\n",
      "Epoch 158/250\n",
      "313/313 [==============================] - 1s 3ms/step - loss: 0.0902 - val_loss: 0.1006\n",
      "Epoch 159/250\n",
      "313/313 [==============================] - 1s 3ms/step - loss: 0.0914 - val_loss: 0.1014\n",
      "Epoch 160/250\n",
      "313/313 [==============================] - 1s 3ms/step - loss: 0.0900 - val_loss: 0.0990\n"
     ]
    },
    {
     "name": "stdout",
     "output_type": "stream",
     "text": [
      "Epoch 161/250\n",
      "313/313 [==============================] - 1s 3ms/step - loss: 0.0897 - val_loss: 0.0975\n",
      "Epoch 162/250\n",
      "313/313 [==============================] - 1s 3ms/step - loss: 0.0898 - val_loss: 0.0989\n",
      "Epoch 163/250\n",
      "313/313 [==============================] - 1s 3ms/step - loss: 0.0918 - val_loss: 0.0974\n",
      "Epoch 164/250\n",
      "313/313 [==============================] - 1s 3ms/step - loss: 0.0893 - val_loss: 0.1006\n",
      "Epoch 165/250\n",
      "313/313 [==============================] - 1s 3ms/step - loss: 0.0895 - val_loss: 0.0994\n",
      "Epoch 166/250\n",
      "313/313 [==============================] - 1s 3ms/step - loss: 0.0907 - val_loss: 0.1103\n",
      "Epoch 167/250\n",
      "313/313 [==============================] - 1s 3ms/step - loss: 0.0929 - val_loss: 0.1037\n",
      "Epoch 168/250\n",
      "313/313 [==============================] - 1s 3ms/step - loss: 0.0896 - val_loss: 0.0996\n",
      "Epoch 169/250\n",
      "313/313 [==============================] - 1s 3ms/step - loss: 0.0904 - val_loss: 0.0983\n",
      "Epoch 170/250\n",
      "313/313 [==============================] - 1s 3ms/step - loss: 0.0901 - val_loss: 0.0991\n",
      "Epoch 171/250\n",
      "313/313 [==============================] - 1s 3ms/step - loss: 0.0896 - val_loss: 0.0983\n",
      "Epoch 172/250\n",
      "313/313 [==============================] - 1s 3ms/step - loss: 0.0892 - val_loss: 0.0964\n",
      "Epoch 173/250\n",
      "313/313 [==============================] - 1s 3ms/step - loss: 0.0894 - val_loss: 0.0980\n",
      "Epoch 174/250\n",
      "313/313 [==============================] - 1s 3ms/step - loss: 0.0906 - val_loss: 0.0999\n",
      "Epoch 175/250\n",
      "313/313 [==============================] - 1s 3ms/step - loss: 0.0889 - val_loss: 0.1110\n",
      "Epoch 176/250\n",
      "313/313 [==============================] - 1s 3ms/step - loss: 0.0907 - val_loss: 0.0995\n",
      "Epoch 177/250\n",
      "313/313 [==============================] - 1s 3ms/step - loss: 0.0900 - val_loss: 0.1081\n",
      "Epoch 178/250\n",
      "313/313 [==============================] - 1s 3ms/step - loss: 0.0902 - val_loss: 0.0992\n",
      "Epoch 179/250\n",
      "313/313 [==============================] - 1s 3ms/step - loss: 0.0897 - val_loss: 0.1041\n",
      "Epoch 180/250\n",
      "313/313 [==============================] - 1s 3ms/step - loss: 0.0892 - val_loss: 0.0978\n",
      "Epoch 181/250\n",
      "313/313 [==============================] - 1s 3ms/step - loss: 0.0891 - val_loss: 0.0997\n",
      "Epoch 182/250\n",
      "313/313 [==============================] - 1s 3ms/step - loss: 0.0894 - val_loss: 0.0986\n",
      "Epoch 183/250\n",
      "313/313 [==============================] - 1s 3ms/step - loss: 0.0895 - val_loss: 0.0977\n",
      "Epoch 184/250\n",
      "313/313 [==============================] - 1s 3ms/step - loss: 0.0894 - val_loss: 0.0985\n",
      "Epoch 185/250\n",
      "313/313 [==============================] - 1s 3ms/step - loss: 0.0897 - val_loss: 0.1009\n",
      "Epoch 186/250\n",
      "313/313 [==============================] - 1s 3ms/step - loss: 0.0901 - val_loss: 0.0965\n",
      "Epoch 187/250\n",
      "313/313 [==============================] - 1s 3ms/step - loss: 0.0889 - val_loss: 0.0981\n",
      "Epoch 188/250\n",
      "313/313 [==============================] - 1s 3ms/step - loss: 0.0888 - val_loss: 0.0982\n",
      "Epoch 189/250\n",
      "313/313 [==============================] - 1s 3ms/step - loss: 0.0889 - val_loss: 0.1028\n",
      "Epoch 190/250\n",
      "313/313 [==============================] - 1s 3ms/step - loss: 0.0898 - val_loss: 0.0996\n",
      "Epoch 191/250\n",
      "313/313 [==============================] - 1s 3ms/step - loss: 0.0893 - val_loss: 0.0990\n",
      "Epoch 192/250\n",
      "313/313 [==============================] - 1s 3ms/step - loss: 0.0891 - val_loss: 0.0982\n",
      "Epoch 193/250\n",
      "313/313 [==============================] - 1s 3ms/step - loss: 0.0899 - val_loss: 0.0998\n",
      "Epoch 194/250\n",
      "313/313 [==============================] - 1s 3ms/step - loss: 0.0896 - val_loss: 0.0972\n",
      "Epoch 195/250\n",
      "313/313 [==============================] - 1s 3ms/step - loss: 0.0886 - val_loss: 0.1058\n",
      "Epoch 196/250\n",
      "313/313 [==============================] - 1s 3ms/step - loss: 0.0898 - val_loss: 0.1070\n",
      "Epoch 197/250\n",
      "313/313 [==============================] - 1s 3ms/step - loss: 0.0896 - val_loss: 0.0990\n",
      "Epoch 198/250\n",
      "313/313 [==============================] - 1s 3ms/step - loss: 0.0897 - val_loss: 0.1025\n",
      "Epoch 199/250\n",
      "313/313 [==============================] - 1s 3ms/step - loss: 0.0891 - val_loss: 0.0981\n",
      "Epoch 200/250\n",
      "313/313 [==============================] - 1s 3ms/step - loss: 0.0891 - val_loss: 0.1017\n",
      "Epoch 201/250\n",
      "313/313 [==============================] - 1s 3ms/step - loss: 0.0893 - val_loss: 0.1010\n",
      "Epoch 202/250\n",
      "313/313 [==============================] - 1s 3ms/step - loss: 0.0895 - val_loss: 0.0989\n",
      "Epoch 203/250\n",
      "313/313 [==============================] - 1s 3ms/step - loss: 0.0891 - val_loss: 0.0972\n",
      "Epoch 204/250\n",
      "313/313 [==============================] - 1s 3ms/step - loss: 0.0885 - val_loss: 0.0996\n",
      "Epoch 205/250\n",
      "313/313 [==============================] - 1s 3ms/step - loss: 0.0886 - val_loss: 0.0966\n",
      "Epoch 206/250\n",
      "313/313 [==============================] - 1s 3ms/step - loss: 0.0887 - val_loss: 0.0986\n",
      "Epoch 207/250\n",
      "313/313 [==============================] - 1s 3ms/step - loss: 0.0891 - val_loss: 0.0990\n",
      "Epoch 208/250\n",
      "313/313 [==============================] - 1s 3ms/step - loss: 0.0886 - val_loss: 0.0985\n",
      "Epoch 209/250\n",
      "313/313 [==============================] - 1s 3ms/step - loss: 0.0892 - val_loss: 0.1015\n",
      "Epoch 210/250\n",
      "313/313 [==============================] - 1s 3ms/step - loss: 0.0885 - val_loss: 0.0980\n",
      "Epoch 211/250\n",
      "313/313 [==============================] - 1s 3ms/step - loss: 0.0883 - val_loss: 0.0983\n",
      "Epoch 212/250\n",
      "313/313 [==============================] - 1s 3ms/step - loss: 0.0885 - val_loss: 0.0968\n",
      "Epoch 213/250\n",
      "313/313 [==============================] - 1s 3ms/step - loss: 0.0885 - val_loss: 0.0983\n",
      "Epoch 214/250\n",
      "313/313 [==============================] - 1s 3ms/step - loss: 0.0882 - val_loss: 0.1025\n",
      "Epoch 215/250\n",
      "313/313 [==============================] - 1s 3ms/step - loss: 0.0885 - val_loss: 0.0986\n",
      "Epoch 216/250\n",
      "313/313 [==============================] - 1s 3ms/step - loss: 0.0876 - val_loss: 0.0979\n",
      "Epoch 217/250\n",
      "313/313 [==============================] - 1s 3ms/step - loss: 0.0883 - val_loss: 0.0987\n",
      "Epoch 218/250\n",
      "313/313 [==============================] - 1s 3ms/step - loss: 0.0885 - val_loss: 0.0972\n",
      "Epoch 219/250\n",
      "313/313 [==============================] - 1s 3ms/step - loss: 0.0886 - val_loss: 0.0965\n",
      "Epoch 220/250\n",
      "313/313 [==============================] - 1s 3ms/step - loss: 0.0889 - val_loss: 0.0985\n",
      "Epoch 221/250\n",
      "313/313 [==============================] - 1s 4ms/step - loss: 0.0881 - val_loss: 0.0984\n",
      "Epoch 222/250\n",
      "313/313 [==============================] - 1s 4ms/step - loss: 0.0882 - val_loss: 0.0974\n",
      "Epoch 223/250\n",
      "313/313 [==============================] - 1s 3ms/step - loss: 0.0894 - val_loss: 0.0980\n",
      "Epoch 224/250\n",
      "313/313 [==============================] - 1s 3ms/step - loss: 0.0890 - val_loss: 0.1002\n",
      "Epoch 225/250\n",
      "313/313 [==============================] - 1s 3ms/step - loss: 0.0877 - val_loss: 0.1015\n",
      "Epoch 226/250\n",
      "313/313 [==============================] - 1s 3ms/step - loss: 0.0881 - val_loss: 0.0968\n",
      "Epoch 227/250\n",
      "313/313 [==============================] - 1s 3ms/step - loss: 0.0876 - val_loss: 0.0979\n",
      "Epoch 228/250\n",
      "313/313 [==============================] - 1s 3ms/step - loss: 0.0885 - val_loss: 0.0989\n",
      "Epoch 229/250\n",
      "313/313 [==============================] - 1s 3ms/step - loss: 0.0895 - val_loss: 0.0977\n",
      "Epoch 230/250\n",
      "313/313 [==============================] - 1s 3ms/step - loss: 0.0894 - val_loss: 0.0964\n",
      "Epoch 231/250\n",
      "313/313 [==============================] - 1s 3ms/step - loss: 0.0894 - val_loss: 0.0986\n",
      "Epoch 232/250\n",
      "313/313 [==============================] - 1s 3ms/step - loss: 0.0877 - val_loss: 0.0969\n",
      "Epoch 233/250\n",
      "313/313 [==============================] - 1s 3ms/step - loss: 0.0877 - val_loss: 0.0977\n",
      "Epoch 234/250\n",
      "313/313 [==============================] - 1s 3ms/step - loss: 0.0874 - val_loss: 0.0965\n",
      "Epoch 235/250\n",
      "313/313 [==============================] - 1s 3ms/step - loss: 0.0876 - val_loss: 0.0966\n",
      "Epoch 236/250\n",
      "313/313 [==============================] - 1s 3ms/step - loss: 0.0887 - val_loss: 0.0978\n",
      "Epoch 237/250\n",
      "313/313 [==============================] - 1s 3ms/step - loss: 0.0892 - val_loss: 0.0994\n",
      "Epoch 238/250\n",
      "313/313 [==============================] - 1s 3ms/step - loss: 0.0873 - val_loss: 0.0993\n",
      "Epoch 239/250\n",
      "313/313 [==============================] - 1s 3ms/step - loss: 0.0879 - val_loss: 0.0969\n",
      "Epoch 240/250\n"
     ]
    },
    {
     "name": "stdout",
     "output_type": "stream",
     "text": [
      "313/313 [==============================] - 1s 3ms/step - loss: 0.0883 - val_loss: 0.0968\n",
      "Epoch 241/250\n",
      "313/313 [==============================] - 1s 3ms/step - loss: 0.0882 - val_loss: 0.0979\n",
      "Epoch 242/250\n",
      "313/313 [==============================] - 1s 3ms/step - loss: 0.0881 - val_loss: 0.0999\n",
      "Epoch 243/250\n",
      "313/313 [==============================] - 1s 3ms/step - loss: 0.0882 - val_loss: 0.0968\n",
      "Epoch 244/250\n",
      "313/313 [==============================] - 1s 3ms/step - loss: 0.0880 - val_loss: 0.0995\n",
      "Epoch 245/250\n",
      "313/313 [==============================] - 1s 3ms/step - loss: 0.0877 - val_loss: 0.0972\n",
      "Epoch 246/250\n",
      "313/313 [==============================] - 1s 3ms/step - loss: 0.0877 - val_loss: 0.0991\n",
      "Epoch 247/250\n",
      "313/313 [==============================] - 1s 3ms/step - loss: 0.0877 - val_loss: 0.1001\n",
      "Epoch 248/250\n",
      "313/313 [==============================] - 1s 3ms/step - loss: 0.0879 - val_loss: 0.0978\n",
      "Epoch 249/250\n",
      "313/313 [==============================] - 1s 3ms/step - loss: 0.0874 - val_loss: 0.0978\n",
      "Epoch 250/250\n",
      "313/313 [==============================] - 1s 3ms/step - loss: 0.0880 - val_loss: 0.0997\n"
     ]
    },
    {
     "data": {
      "text/plain": [
       "<keras.callbacks.History at 0x1f99a63b4c0>"
      ]
     },
     "execution_count": 30,
     "metadata": {},
     "output_type": "execute_result"
    }
   ],
   "source": [
    "model.fit(x=X_train, \n",
    "          y=y_train, \n",
    "          epochs=250,\n",
    "          batch_size=256,\n",
    "          validation_data=(X_test, y_test), \n",
    "          )"
   ]
  },
  {
   "cell_type": "code",
   "execution_count": 31,
   "id": "9ef2bf94",
   "metadata": {},
   "outputs": [],
   "source": [
    "losses = pd.DataFrame(model.history.history)"
   ]
  },
  {
   "cell_type": "code",
   "execution_count": 32,
   "id": "3f8a4943",
   "metadata": {},
   "outputs": [
    {
     "data": {
      "text/plain": [
       "<AxesSubplot:>"
      ]
     },
     "execution_count": 32,
     "metadata": {},
     "output_type": "execute_result"
    },
    {
     "data": {
      "image/png": "[encoded data removed]",
      "text/plain": [
       "<Figure size 432x288 with 1 Axes>"
      ]
     },
     "metadata": {
      "needs_background": "light"
     },
     "output_type": "display_data"
    }
   ],
   "source": [
    "losses[['loss','val_loss']].plot()"
   ]
  },
  {
   "cell_type": "code",
   "execution_count": 33,
   "id": "2fb20e5a",
   "metadata": {},
   "outputs": [
    {
     "name": "stdout",
     "output_type": "stream",
     "text": [
      "625/625 [==============================] - 1s 2ms/step\n"
     ]
    }
   ],
   "source": [
    "predictions = model.predict(X_test)"
   ]
  },
  {
   "cell_type": "code",
   "execution_count": 34,
   "id": "b802160e",
   "metadata": {},
   "outputs": [],
   "source": [
    "prediction_p = tf.nn.softmax(predictions)"
   ]
  },
  {
   "cell_type": "code",
   "execution_count": 35,
   "id": "cb5b8a4b",
   "metadata": {},
   "outputs": [],
   "source": [
    "yhat = np.argmax(prediction_p)"
   ]
  },
  {
   "cell_type": "code",
   "execution_count": 37,
   "id": "cbca2ad3",
   "metadata": {},
   "outputs": [],
   "source": [
    "y_hat=tf.argmax(input=prediction_p,axis=1).numpy()"
   ]
  },
  {
   "cell_type": "code",
   "execution_count": 38,
   "id": "ffd4fa32",
   "metadata": {},
   "outputs": [
    {
     "data": {
      "text/plain": [
       "array([0, 1, 1, ..., 0, 0, 0], dtype=int64)"
      ]
     },
     "execution_count": 38,
     "metadata": {},
     "output_type": "execute_result"
    }
   ],
   "source": [
    "y_hat"
   ]
  },
  {
   "cell_type": "code",
   "execution_count": 39,
   "id": "a5e84e00",
   "metadata": {},
   "outputs": [],
   "source": [
    "y_s=pd.Series(y_hat)"
   ]
  },
  {
   "cell_type": "code",
   "execution_count": 40,
   "id": "e067eafc",
   "metadata": {},
   "outputs": [],
   "source": [
    "from sklearn.metrics import classification_report,confusion_matrix"
   ]
  },
  {
   "cell_type": "code",
   "execution_count": null,
   "id": "58016d2f",
   "metadata": {},
   "outputs": [],
   "source": []
  },
  {
   "cell_type": "code",
   "execution_count": 41,
   "id": "4a7ddb52",
   "metadata": {},
   "outputs": [
    {
     "name": "stdout",
     "output_type": "stream",
     "text": [
      "              precision    recall  f1-score   support\n",
      "\n",
      "           0       0.98      0.98      0.98     11860\n",
      "           1       0.97      1.00      0.98      4343\n",
      "           2       0.96      0.93      0.94      3797\n",
      "\n",
      "    accuracy                           0.97     20000\n",
      "   macro avg       0.97      0.97      0.97     20000\n",
      "weighted avg       0.97      0.97      0.97     20000\n",
      "\n"
     ]
    }
   ],
   "source": [
    "print(classification_report(y_test,y_s))"
   ]
  },
  {
   "cell_type": "code",
   "execution_count": 42,
   "id": "e7fe3d7f",
   "metadata": {},
   "outputs": [
    {
     "data": {
      "text/plain": [
       "array([[11587,   139,   134],\n",
       "       [   19,  4324,     0],\n",
       "       [  277,     3,  3517]], dtype=int64)"
      ]
     },
     "execution_count": 42,
     "metadata": {},
     "output_type": "execute_result"
    }
   ],
   "source": [
    "confusion_matrix(y_test,y_s)"
   ]
  },
  {
   "cell_type": "code",
   "execution_count": 43,
   "id": "240c3201",
   "metadata": {},
   "outputs": [
    {
     "data": {
      "text/plain": [
       "<AxesSubplot:>"
      ]
     },
     "execution_count": 43,
     "metadata": {},
     "output_type": "execute_result"
    },
    {
     "data": {
      "image/png": "[encoded data removed]",
      "text/plain": [
       "<Figure size 432x288 with 2 Axes>"
      ]
     },
     "metadata": {
      "needs_background": "light"
     },
     "output_type": "display_data"
    }
   ],
   "source": [
    "sns.heatmap(confusion_matrix(y_test,y_s),annot=True)"
   ]
  },
  {
   "cell_type": "code",
   "execution_count": null,
   "id": "75690460",
   "metadata": {},
   "outputs": [],
   "source": []
  }
 ],
 "metadata": {
  "kernelspec": {
   "display_name": "Python 3 (ipykernel)",
   "language": "python",
   "name": "python3"
  },
  "language_info": {
   "codemirror_mode": {
    "name": "ipython",
    "version": 3
   },
   "file_extension": ".py",
   "mimetype": "text/x-python",
   "name": "python",
   "nbconvert_exporter": "python",
   "pygments_lexer": "ipython3",
   "version": "3.10.4"
  }
 },
 "nbformat": 4,
 "nbformat_minor": 5
}
